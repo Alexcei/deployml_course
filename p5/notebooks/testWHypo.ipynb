{
 "cells": [
  {
   "cell_type": "code",
   "execution_count": 16,
   "metadata": {},
   "outputs": [
    {
     "data": {
      "text/html": [
       "<div>\n",
       "<style scoped>\n",
       "    .dataframe tbody tr th:only-of-type {\n",
       "        vertical-align: middle;\n",
       "    }\n",
       "\n",
       "    .dataframe tbody tr th {\n",
       "        vertical-align: top;\n",
       "    }\n",
       "\n",
       "    .dataframe thead th {\n",
       "        text-align: right;\n",
       "    }\n",
       "</style>\n",
       "<table border=\"1\" class=\"dataframe\">\n",
       "  <thead>\n",
       "    <tr style=\"text-align: right;\">\n",
       "      <th></th>\n",
       "      <th>id</th>\n",
       "      <th>rfm_value</th>\n",
       "      <th>prob_retur</th>\n",
       "    </tr>\n",
       "  </thead>\n",
       "  <tbody>\n",
       "    <tr>\n",
       "      <th>0</th>\n",
       "      <td>97905</td>\n",
       "      <td>-1.192093e-07</td>\n",
       "      <td>0.448090</td>\n",
       "    </tr>\n",
       "    <tr>\n",
       "      <th>1</th>\n",
       "      <td>87841</td>\n",
       "      <td>-4.331258e+16</td>\n",
       "      <td>0.556523</td>\n",
       "    </tr>\n",
       "    <tr>\n",
       "      <th>2</th>\n",
       "      <td>35480</td>\n",
       "      <td>-4.331258e+16</td>\n",
       "      <td>0.475412</td>\n",
       "    </tr>\n",
       "    <tr>\n",
       "      <th>3</th>\n",
       "      <td>7917</td>\n",
       "      <td>-4.331258e+16</td>\n",
       "      <td>0.757505</td>\n",
       "    </tr>\n",
       "    <tr>\n",
       "      <th>4</th>\n",
       "      <td>89751</td>\n",
       "      <td>inf</td>\n",
       "      <td>0.488638</td>\n",
       "    </tr>\n",
       "    <tr>\n",
       "      <th>5</th>\n",
       "      <td>12344</td>\n",
       "      <td>-4.331258e+16</td>\n",
       "      <td>0.620841</td>\n",
       "    </tr>\n",
       "  </tbody>\n",
       "</table>\n",
       "</div>"
      ],
      "text/plain": [
       "      id     rfm_value  prob_retur\n",
       "0  97905 -1.192093e-07    0.448090\n",
       "1  87841 -4.331258e+16    0.556523\n",
       "2  35480 -4.331258e+16    0.475412\n",
       "3   7917 -4.331258e+16    0.757505\n",
       "4  89751           inf    0.488638\n",
       "5  12344 -4.331258e+16    0.620841"
      ]
     },
     "execution_count": 16,
     "metadata": {},
     "output_type": "execute_result"
    }
   ],
   "source": [
    "import pandas as pd\n",
    "import numpy as np\n",
    "\n",
    "from hypothesis import given\n",
    "from hypothesis import strategies as st\n",
    "from hypothesis.extra.pandas import data_frames, column\n",
    "from scipy.special import expit\n",
    "\n",
    "import matplotlib.pyplot as plt\n",
    "import seaborn as sns\n",
    "\n",
    "\n",
    "# создадим DF для работы (генерация случайного ДатаФРейма)\n",
    "# frame -> column{name, params}\n",
    "data_frames(\n",
    "    [\n",
    "        column('id',\n",
    "                elements=st.integers(min_value=0, max_value=100_000),\n",
    "                dtype=int, \n",
    "                unique=True),\n",
    "        column('rfm_value', \n",
    "                dtype='float'), \n",
    "        column('prob_retur',\n",
    "                elements=st.floats(min_value=0, max_value=1, allow_nan=False))\n",
    "    ]\n",
    ").example()"
   ]
  },
  {
   "cell_type": "code",
   "execution_count": 19,
   "metadata": {},
   "outputs": [
    {
     "data": {
      "image/png": "[encoded data removed]",
      "text/plain": [
       "<Figure size 576x216 with 2 Axes>"
      ]
     },
     "metadata": {},
     "output_type": "display_data"
    }
   ],
   "source": [
    "sns.set(font_scale=1.5)\n",
    "\n",
    "# рассмотрим ещё вариант\n",
    "df_customers = pd.DataFrame(\n",
    "    {'days_since_last_order': np.random.randint(low=0, high=365, size=1000),\n",
    "     'num_total_orders': np.random.geometric(0.5, size=1000)})\n",
    "\n",
    "fig, (ax1, ax2) = plt.subplots(1, 2, figsize=(8, 3))\n",
    "df_customers.days_since_last_order.hist(ax=ax1)\n",
    "df_customers.num_total_orders.hist(ax=ax2)\n",
    "ax1.set_xlabel('Дней с последнего заказа')\n",
    "ax2.set_xlabel('Кол-во заказов')\n",
    "plt.show();"
   ]
  },
  {
   "cell_type": "code",
   "execution_count": 20,
   "metadata": {},
   "outputs": [
    {
     "data": {
      "image/png": "[encoded data removed]",
      "text/plain": [
       "<Figure size 432x288 with 1 Axes>"
      ]
     },
     "metadata": {},
     "output_type": "display_data"
    }
   ],
   "source": [
    "# функция расчета вероятности возврата пользователя (id) в магазин\n",
    "def probality_loyal_customer(df):\n",
    "    p_num_orders = df.num_total_orders.apply(expit)\n",
    "    p_days_ago = df.days_since_last_order / df.days_since_last_order.max()\n",
    "    p_loyal = p_days_ago * p_num_orders\n",
    "    return p_loyal\n",
    "\n",
    "\n",
    "prob_loyal = probality_loyal_customer(df_customers)\n",
    "prob_loyal.hist()\n",
    "plt.xlabel('');"
   ]
  },
  {
   "cell_type": "markdown",
   "metadata": {},
   "source": [
    "### А как тестить?"
   ]
  },
  {
   "cell_type": "code",
   "execution_count": 6,
   "metadata": {},
   "outputs": [],
   "source": [
    "def probality_loyal_customer(df):\n",
    "    p_num_orders = df.num_total_orders.apply(expit)\n",
    "    p_days_ago = df.days_since_last_order / df.days_since_last_order.max()\n",
    "    p_loyal = p_days_ago * p_num_orders\n",
    "    return p_loyal\n",
    "\n",
    "\n",
    "@given(\n",
    "    data_frames([\n",
    "        column('days_since_last_order', dtype=int,\n",
    "               elements=st.integers(min_value=0, max_value=365)),\n",
    "        column('num_total_orders', dtype=int,\n",
    "               elements=st.integers(min_value=0, max_value=1_000_000))])\n",
    ")\n",
    "def test_prob_loyality(df):\n",
    "    # df == @given результат\n",
    "    \n",
    "    # проверяем, что вероятность от 0 до 1\n",
    "    assert p.between(0, 1, inclusive=True).all()"
   ]
  },
  {
   "cell_type": "code",
   "execution_count": null,
   "metadata": {},
   "outputs": [],
   "source": []
  }
 ],
 "metadata": {
  "kernelspec": {
   "display_name": "bike",
   "language": "python",
   "name": "python3"
  },
  "language_info": {
   "codemirror_mode": {
    "name": "ipython",
    "version": 3
   },
   "file_extension": ".py",
   "mimetype": "text/x-python",
   "name": "python",
   "nbconvert_exporter": "python",
   "pygments_lexer": "ipython3",
   "version": "3.8.6"
  }
 },
 "nbformat": 4,
 "nbformat_minor": 4
}
