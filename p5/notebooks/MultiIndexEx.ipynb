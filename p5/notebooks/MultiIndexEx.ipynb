{
 "cells": [
  {
   "cell_type": "code",
   "execution_count": 84,
   "metadata": {},
   "outputs": [],
   "source": [
    "import numpy as np\n",
    "import pandas as pd\n",
    "import pytest\n",
    "import datetime\n",
    "\n",
    "from hypothesis import given, settings\n",
    "from hypothesis import strategies as st\n",
    "from hypothesis.extra.pandas import data_frames, column\n",
    "\n",
    "\n",
    "# функция для тестирования\n",
    "def index_creator(df, mind, maxd, freq):\n",
    "    by = 'Station'\n",
    "    newCol = 'Datetime'\n",
    "    return pd.MultiIndex \\\n",
    "             .from_product([df[by].sort_values().unique(),\n",
    "                            pd.Index(pd.date_range(mind,\n",
    "                                                   maxd,\n",
    "                                                   freq=freq))],\n",
    "                            names=[by, newCol])"
   ]
  },
  {
   "cell_type": "code",
   "execution_count": 85,
   "metadata": {},
   "outputs": [
    {
     "ename": "SyntaxError",
     "evalue": "unexpected EOF while parsing (<ipython-input-85-173b19ef8c3e>, line 19)",
     "output_type": "error",
     "traceback": [
      "\u001b[1;36m  File \u001b[1;32m\"<ipython-input-85-173b19ef8c3e>\"\u001b[1;36m, line \u001b[1;32m19\u001b[0m\n\u001b[1;33m    )\u001b[0m\n\u001b[1;37m     ^\u001b[0m\n\u001b[1;31mSyntaxError\u001b[0m\u001b[1;31m:\u001b[0m unexpected EOF while parsing\n"
     ]
    }
   ],
   "source": [
    "# генерация данных для функции\n",
    "# получаем элементы из given\n",
    "@given(\n",
    "    # объект pandas\n",
    "    data_frames(\n",
    "        [\n",
    "            column('Station', dtype=str,\n",
    "                   elements=st.text()),\n",
    "            column('DateOfPeriod',\n",
    "                   elements=st.datetimes(min_value=datetime.datetime.strptime('2019-01-01 00:00:00', '%Y-%m-%d %H:%M:%S'),\n",
    "                                         max_value=datetime.datetime.strptime('2021-01-01 00:00:00', '%Y-%m-%d %H:%M:%S'))),\n",
    "        ]\n",
    "    ),\n",
    "    # объекты datetime\n",
    "    st.datetimes(min_value=datetime.datetime.strptime('2019-01-01 00:00:00', '%Y-%m-%d %H:%M:%S'),\n",
    "                 max_value=datetime.datetime.strptime('2021-01-01 00:00:00', '%Y-%m-%d %H:%M:%S')),\n",
    "    st.datetimes(min_value=datetime.datetime.strptime('2019-01-01 00:00:00', '%Y-%m-%d %H:%M:%S'),\n",
    "                 max_value=datetime.datetime.strptime('2021-01-01 00:00:00', '%Y-%m-%d %H:%M:%S'))\n",
    ")"
   ]
  },
  {
   "cell_type": "code",
   "execution_count": 129,
   "metadata": {},
   "outputs": [
    {
     "data": {
      "text/html": [
       "<div>\n",
       "<style scoped>\n",
       "    .dataframe tbody tr th:only-of-type {\n",
       "        vertical-align: middle;\n",
       "    }\n",
       "\n",
       "    .dataframe tbody tr th {\n",
       "        vertical-align: top;\n",
       "    }\n",
       "\n",
       "    .dataframe thead th {\n",
       "        text-align: right;\n",
       "    }\n",
       "</style>\n",
       "<table border=\"1\" class=\"dataframe\">\n",
       "  <thead>\n",
       "    <tr style=\"text-align: right;\">\n",
       "      <th></th>\n",
       "      <th>Station</th>\n",
       "      <th>DateOfPeriod</th>\n",
       "    </tr>\n",
       "  </thead>\n",
       "  <tbody>\n",
       "    <tr>\n",
       "      <th>0</th>\n",
       "      <td>HnYgpPZbElLisqfPfgpTH</td>\n",
       "      <td>2021-01-01 00:00:00.000000</td>\n",
       "    </tr>\n",
       "    <tr>\n",
       "      <th>1</th>\n",
       "      <td>uHKuc</td>\n",
       "      <td>2020-03-14 08:58:51.724295</td>\n",
       "    </tr>\n",
       "    <tr>\n",
       "      <th>2</th>\n",
       "      <td>RWlTdaBxIEGbSWBIDmxRISOzbkBRymNKjulGnZS</td>\n",
       "      <td>2019-02-05 16:42:52.201264</td>\n",
       "    </tr>\n",
       "    <tr>\n",
       "      <th>3</th>\n",
       "      <td>BKpQRAsIvmilWBEmkyEOntEsttMi</td>\n",
       "      <td>2020-04-18 19:16:09.079863</td>\n",
       "    </tr>\n",
       "    <tr>\n",
       "      <th>4</th>\n",
       "      <td>SKclxhqEQVcrgjjyUwwNHPcAZGkJd</td>\n",
       "      <td>2019-12-23 09:52:05.694735</td>\n",
       "    </tr>\n",
       "    <tr>\n",
       "      <th>5</th>\n",
       "      <td>JvhXrUmWyfER</td>\n",
       "      <td>2021-01-01 00:00:00.000000</td>\n",
       "    </tr>\n",
       "    <tr>\n",
       "      <th>6</th>\n",
       "      <td>gNmuyuEr</td>\n",
       "      <td>2020-04-18 19:16:09.079863</td>\n",
       "    </tr>\n",
       "  </tbody>\n",
       "</table>\n",
       "</div>"
      ],
      "text/plain": [
       "                                   Station               DateOfPeriod\n",
       "0                    HnYgpPZbElLisqfPfgpTH 2021-01-01 00:00:00.000000\n",
       "1                                    uHKuc 2020-03-14 08:58:51.724295\n",
       "2  RWlTdaBxIEGbSWBIDmxRISOzbkBRymNKjulGnZS 2019-02-05 16:42:52.201264\n",
       "3             BKpQRAsIvmilWBEmkyEOntEsttMi 2020-04-18 19:16:09.079863\n",
       "4            SKclxhqEQVcrgjjyUwwNHPcAZGkJd 2019-12-23 09:52:05.694735\n",
       "5                             JvhXrUmWyfER 2021-01-01 00:00:00.000000\n",
       "6                                 gNmuyuEr 2020-04-18 19:16:09.079863"
      ]
     },
     "execution_count": 129,
     "metadata": {},
     "output_type": "execute_result"
    }
   ],
   "source": [
    "# создаем случайный\n",
    "import string\n",
    "\n",
    "df = data_frames(\n",
    "        [\n",
    "            column('Station', dtype=str,\n",
    "                   elements=st.text(alphabet=f\"{string.ascii_letters}{string.ascii_lowercase}\", min_size=5)),\n",
    "            column('DateOfPeriod',\n",
    "                   elements=st.datetimes(min_value=datetime.datetime.strptime('2019-01-01 00:00:00', '%Y-%m-%d %H:%M:%S'),\n",
    "                                         max_value=datetime.datetime.strptime('2021-01-01 00:00:00', '%Y-%m-%d %H:%M:%S'))),\n",
    "        ]\n",
    "    ).example()\n",
    "\n",
    "df"
   ]
  },
  {
   "cell_type": "code",
   "execution_count": 130,
   "metadata": {},
   "outputs": [],
   "source": [
    "mn = st.datetimes(min_value=datetime.datetime.strptime('2019-01-01 00:00:00', '%Y-%m-%d %H:%M:%S'),\n",
    "                 max_value=datetime.datetime.strptime('2021-01-01 00:00:00', '%Y-%m-%d %H:%M:%S')).example()\n",
    "mx = st.datetimes(min_value=datetime.datetime.strptime('2019-01-01 00:00:00', '%Y-%m-%d %H:%M:%S'),\n",
    "                 max_value=datetime.datetime.strptime('2021-01-01 00:00:00', '%Y-%m-%d %H:%M:%S')).example()"
   ]
  },
  {
   "cell_type": "code",
   "execution_count": 131,
   "metadata": {},
   "outputs": [
    {
     "data": {
      "text/plain": [
       "(datetime.datetime(2019, 1, 1, 0, 0), datetime.datetime(2019, 2, 1, 0, 0))"
      ]
     },
     "execution_count": 131,
     "metadata": {},
     "output_type": "execute_result"
    }
   ],
   "source": [
    "mn, mx"
   ]
  },
  {
   "cell_type": "code",
   "execution_count": 135,
   "metadata": {},
   "outputs": [
    {
     "data": {
      "text/plain": [
       "MultiIndex([('BKpQRAsIvmilWBEmkyEOntEsttMi', '2019-01-01 00:00:00'),\n",
       "            ('BKpQRAsIvmilWBEmkyEOntEsttMi', '2019-01-01 01:00:00'),\n",
       "            ('BKpQRAsIvmilWBEmkyEOntEsttMi', '2019-01-01 02:00:00'),\n",
       "            ('BKpQRAsIvmilWBEmkyEOntEsttMi', '2019-01-01 03:00:00'),\n",
       "            ('BKpQRAsIvmilWBEmkyEOntEsttMi', '2019-01-01 04:00:00'),\n",
       "            ('BKpQRAsIvmilWBEmkyEOntEsttMi', '2019-01-01 05:00:00'),\n",
       "            ('BKpQRAsIvmilWBEmkyEOntEsttMi', '2019-01-01 06:00:00'),\n",
       "            ('BKpQRAsIvmilWBEmkyEOntEsttMi', '2019-01-01 07:00:00'),\n",
       "            ('BKpQRAsIvmilWBEmkyEOntEsttMi', '2019-01-01 08:00:00'),\n",
       "            ('BKpQRAsIvmilWBEmkyEOntEsttMi', '2019-01-01 09:00:00'),\n",
       "            ...\n",
       "            (                       'uHKuc', '2019-01-31 15:00:00'),\n",
       "            (                       'uHKuc', '2019-01-31 16:00:00'),\n",
       "            (                       'uHKuc', '2019-01-31 17:00:00'),\n",
       "            (                       'uHKuc', '2019-01-31 18:00:00'),\n",
       "            (                       'uHKuc', '2019-01-31 19:00:00'),\n",
       "            (                       'uHKuc', '2019-01-31 20:00:00'),\n",
       "            (                       'uHKuc', '2019-01-31 21:00:00'),\n",
       "            (                       'uHKuc', '2019-01-31 22:00:00'),\n",
       "            (                       'uHKuc', '2019-01-31 23:00:00'),\n",
       "            (                       'uHKuc', '2019-02-01 00:00:00')],\n",
       "           names=['Station', 'Datetime'], length=5215)"
      ]
     },
     "execution_count": 135,
     "metadata": {},
     "output_type": "execute_result"
    }
   ],
   "source": [
    "# что нам нужно получить из функции\n",
    "# переменные\n",
    "mind = mn\n",
    "maxd = mx\n",
    "freq = 'H'\n",
    "# константы\n",
    "by = 'Station'\n",
    "newCol = 'Datetime'\n",
    "\n",
    "pd.MultiIndex \\\n",
    "  .from_product([df[by].sort_values().unique(),\n",
    "                 pd.Index(pd.date_range(mind,\n",
    "                                        maxd,\n",
    "                                        freq=freq))],\n",
    "                 names=[by, \n",
    "                        newCol])"
   ]
  },
  {
   "cell_type": "code",
   "execution_count": 136,
   "metadata": {},
   "outputs": [
    {
     "data": {
      "text/plain": [
       "MultiIndex([('BKpQRAsIvmilWBEmkyEOntEsttMi', '2019-01-01'),\n",
       "            ('BKpQRAsIvmilWBEmkyEOntEsttMi', '2019-01-02'),\n",
       "            ('BKpQRAsIvmilWBEmkyEOntEsttMi', '2019-01-03'),\n",
       "            ('BKpQRAsIvmilWBEmkyEOntEsttMi', '2019-01-04'),\n",
       "            ('BKpQRAsIvmilWBEmkyEOntEsttMi', '2019-01-05'),\n",
       "            ('BKpQRAsIvmilWBEmkyEOntEsttMi', '2019-01-06'),\n",
       "            ('BKpQRAsIvmilWBEmkyEOntEsttMi', '2019-01-07'),\n",
       "            ('BKpQRAsIvmilWBEmkyEOntEsttMi', '2019-01-08'),\n",
       "            ('BKpQRAsIvmilWBEmkyEOntEsttMi', '2019-01-09'),\n",
       "            ('BKpQRAsIvmilWBEmkyEOntEsttMi', '2019-01-10')],\n",
       "           names=['Station', 'Datetime'])"
      ]
     },
     "execution_count": 136,
     "metadata": {},
     "output_type": "execute_result"
    }
   ],
   "source": [
    "index_creator(df, mn, mx, 'D')[:10]"
   ]
  },
  {
   "cell_type": "code",
   "execution_count": 137,
   "metadata": {},
   "outputs": [
    {
     "data": {
      "text/plain": [
       "True"
      ]
     },
     "execution_count": 137,
     "metadata": {},
     "output_type": "execute_result"
    }
   ],
   "source": [
    "# тесты\n",
    "# соответсвие класса (smoke)\n",
    "index_creator(df, mn, mx, 'D').__class__ == pd.core.indexes.multi.MultiIndex"
   ]
  },
  {
   "cell_type": "code",
   "execution_count": 138,
   "metadata": {},
   "outputs": [
    {
     "data": {
      "text/plain": [
       "True"
      ]
     },
     "execution_count": 138,
     "metadata": {},
     "output_type": "execute_result"
    }
   ],
   "source": [
    "# правильный способы проверки класса\n",
    "isinstance(index_creator(df, mn, mx, 'D'), pd.MultiIndex)"
   ]
  },
  {
   "cell_type": "code",
   "execution_count": 141,
   "metadata": {},
   "outputs": [],
   "source": [
    "# что будет в нужной структуре и не пустой индекс с уровнями, именами и определителями\n",
    "try:\n",
    "    pd.testing.assert_index_equal(index_creator(df, mn, mx, 'D'),\n",
    "                                      pd.core.indexes.multi.MultiIndex(levels = [['', '0'], []], \n",
    "                                                                       names = ['Station', 'Datetime'],\n",
    "                                                                       codes=[[], []]))\n",
    "except AssertionError:\n",
    "    True\n",
    "    \n",
    "\n",
    "\n",
    "with pytest.raises(AssertionError):\n",
    "    pd.testing.assert_index_equal(index_creator(df, mn, mx, 'D'),\n",
    "                                  pd.core.indexes.multi.MultiIndex(levels = [['', '0'], []], \n",
    "                                                                   names = ['Station', 'Datetime'],\n",
    "                                                                   codes=[[], []]))\n",
    "    "
   ]
  },
  {
   "cell_type": "code",
   "execution_count": null,
   "metadata": {},
   "outputs": [],
   "source": [
    "# если нужны примеры когда, то можно посмотреть тут\n",
    "# https://www.programcreek.com/python/"
   ]
  }
 ],
 "metadata": {
  "kernelspec": {
   "display_name": "bike",
   "language": "python",
   "name": "python3"
  },
  "language_info": {
   "codemirror_mode": {
    "name": "ipython",
    "version": 3
   },
   "file_extension": ".py",
   "mimetype": "text/x-python",
   "name": "python",
   "nbconvert_exporter": "python",
   "pygments_lexer": "ipython3",
   "version": "3.8.6"
  }
 },
 "nbformat": 4,
 "nbformat_minor": 4
}
