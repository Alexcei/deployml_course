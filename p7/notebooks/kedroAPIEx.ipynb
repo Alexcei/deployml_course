{
 "cells": [
  {
   "cell_type": "code",
   "execution_count": 1,
   "metadata": {},
   "outputs": [
    {
     "name": "stderr",
     "output_type": "stream",
     "text": [
      "c:\\program files\\python38\\lib\\site-packages\\kedro\\context\\__init__.py:42: DeprecationWarning: All the modules in `kedro.context` have been moved to `kedro.framework.context`, and `kedro.context` will be removed in Kedro 0.17.0. Please update import paths from `kedro.context` to `kedro.framework.context` in your Kedro project.\n",
      "  warnings.warn(\n",
      "c:\\program files\\python38\\lib\\site-packages\\fsspec\\implementations\\local.py:29: FutureWarning: The default value of auto_mkdir=True has been deprecated and will be changed to auto_mkdir=False by default in a future release.\n",
      "  warnings.warn(\n"
     ]
    }
   ],
   "source": [
    "from kedro.context import load_context\n",
    "from kedro.extras.datasets.api import APIDataSet\n",
    "import json\n",
    "\n",
    "context = load_context(\"../\")\n",
    "catalog = context.catalog"
   ]
  },
  {
   "cell_type": "code",
   "execution_count": 8,
   "metadata": {},
   "outputs": [],
   "source": [
    "st = APIDataSet(\n",
    "        url = \"http://127.0.0.1:9876/data\",\n",
    "        headers = {\"content-type\": \"application/json\"}\n",
    ")"
   ]
  },
  {
   "cell_type": "code",
   "execution_count": 9,
   "metadata": {},
   "outputs": [
    {
     "name": "stderr",
     "output_type": "stream",
     "text": [
      "c:\\program files\\python38\\lib\\site-packages\\ipykernel\\ipkernel.py:287: DeprecationWarning: `should_run_async` will not call `transform_cell` automatically in the future. Please pass the result to `transformed_cell` argument and any exception that happen during thetransform in `preprocessing_exc_tuple` in IPython 7.17 and above.\n",
      "  and should_run_async(code)\n"
     ]
    },
    {
     "data": {
      "text/plain": [
       "<Response [200]>"
      ]
     },
     "execution_count": 9,
     "metadata": {},
     "output_type": "execute_result"
    }
   ],
   "source": [
    "st.load()"
   ]
  },
  {
   "cell_type": "code",
   "execution_count": 12,
   "metadata": {},
   "outputs": [],
   "source": [
    "val = _9"
   ]
  },
  {
   "cell_type": "code",
   "execution_count": 14,
   "metadata": {},
   "outputs": [
    {
     "name": "stderr",
     "output_type": "stream",
     "text": [
      "c:\\program files\\python38\\lib\\site-packages\\ipykernel\\ipkernel.py:287: DeprecationWarning: `should_run_async` will not call `transform_cell` automatically in the future. Please pass the result to `transformed_cell` argument and any exception that happen during thetransform in `preprocessing_exc_tuple` in IPython 7.17 and above.\n",
      "  and should_run_async(code)\n"
     ]
    },
    {
     "data": {
      "text/plain": [
       "b'{\"index\":15,\"data\":{\"Hour_cosine\":0.20345601305263372,\"Hour_sine\":0.9790840876823228,\"Day_of_week_cosine\":-1.0,\"Day_of_week_sine\":1.2246467991473532e-16,\"Is_weekday\":1,\"Is_night\":0,\"Season_cosine\":-0.5000000000000004,\"Season_sine\":-0.8660254037844384,\"net_rate_previous_hour\":0.0,\"Dock_Count\":15,\"Fog\":0,\"Fog-Rain\":0,\"Clear\":1,\"Rain\":0,\"Rain-Thunderstorm\":0,\"CloudCover\":6.0,\"PrecipitationIn\":0.0,\"WindDirDegrees\":313.0,\"Max Dew PointF\":59.0,\"Max Gust SpeedMPH\":23.0,\"Max Humidity\":90.0,\"Max Sea Level PressureIn\":29.98,\"Max TemperatureF\":74.0,\"Max VisibilityMiles\":10.0,\"Max Wind SpeedMPH\":21.0,\"Mean Humidity\":76.0,\"Mean Sea Level PressureIn\":29.94,\"Mean TemperatureF\":67.0,\"Mean VisibilityMiles\":10.0,\"Mean Wind SpeedMPH\":11.0,\"MeanDew PointF\":57.0,\"Min DewpointF\":55.0,\"Min Humidity\":61.0,\"Min Sea Level PressureIn\":29.91,\"Min TemperatureF\":60.0,\"Min VisibilityMiles\":10.0,\"Zip_94041\":0,\"Zip_94063\":0,\"Zip_94107\":1,\"Zip_94301\":0,\"Zip_95113\":0}}'"
      ]
     },
     "execution_count": 14,
     "metadata": {},
     "output_type": "execute_result"
    }
   ],
   "source": [
    "val.content"
   ]
  },
  {
   "cell_type": "code",
   "execution_count": 17,
   "metadata": {},
   "outputs": [
    {
     "data": {
      "text/plain": [
       "{'date': 'Mon, 23 Nov 2020 16:55:35 GMT', 'server': 'uvicorn', 'content-length': '948', 'content-type': 'application/json'}"
      ]
     },
     "execution_count": 17,
     "metadata": {},
     "output_type": "execute_result"
    }
   ],
   "source": [
    "val.headers"
   ]
  },
  {
   "cell_type": "code",
   "execution_count": 20,
   "metadata": {},
   "outputs": [
    {
     "name": "stderr",
     "output_type": "stream",
     "text": [
      "c:\\program files\\python38\\lib\\site-packages\\ipykernel\\ipkernel.py:287: DeprecationWarning: `should_run_async` will not call `transform_cell` automatically in the future. Please pass the result to `transformed_cell` argument and any exception that happen during thetransform in `preprocessing_exc_tuple` in IPython 7.17 and above.\n",
      "  and should_run_async(code)\n"
     ]
    },
    {
     "data": {
      "text/html": [
       "<div>\n",
       "<style scoped>\n",
       "    .dataframe tbody tr th:only-of-type {\n",
       "        vertical-align: middle;\n",
       "    }\n",
       "\n",
       "    .dataframe tbody tr th {\n",
       "        vertical-align: top;\n",
       "    }\n",
       "\n",
       "    .dataframe thead th {\n",
       "        text-align: right;\n",
       "    }\n",
       "</style>\n",
       "<table border=\"1\" class=\"dataframe\">\n",
       "  <thead>\n",
       "    <tr style=\"text-align: right;\">\n",
       "      <th></th>\n",
       "      <th>Hour_cosine</th>\n",
       "      <th>Hour_sine</th>\n",
       "      <th>Day_of_week_cosine</th>\n",
       "      <th>Day_of_week_sine</th>\n",
       "      <th>Is_weekday</th>\n",
       "      <th>Is_night</th>\n",
       "      <th>Season_cosine</th>\n",
       "      <th>Season_sine</th>\n",
       "      <th>net_rate_previous_hour</th>\n",
       "      <th>Dock_Count</th>\n",
       "      <th>...</th>\n",
       "      <th>Min DewpointF</th>\n",
       "      <th>Min Humidity</th>\n",
       "      <th>Min Sea Level PressureIn</th>\n",
       "      <th>Min TemperatureF</th>\n",
       "      <th>Min VisibilityMiles</th>\n",
       "      <th>Zip_94041</th>\n",
       "      <th>Zip_94063</th>\n",
       "      <th>Zip_94107</th>\n",
       "      <th>Zip_94301</th>\n",
       "      <th>Zip_95113</th>\n",
       "    </tr>\n",
       "  </thead>\n",
       "  <tbody>\n",
       "    <tr>\n",
       "      <th>0</th>\n",
       "      <td>0.203456</td>\n",
       "      <td>0.979084</td>\n",
       "      <td>-1.0</td>\n",
       "      <td>1.224647e-16</td>\n",
       "      <td>1.0</td>\n",
       "      <td>0.0</td>\n",
       "      <td>-0.5</td>\n",
       "      <td>-0.866025</td>\n",
       "      <td>0.0</td>\n",
       "      <td>15.0</td>\n",
       "      <td>...</td>\n",
       "      <td>55.0</td>\n",
       "      <td>61.0</td>\n",
       "      <td>29.91</td>\n",
       "      <td>60.0</td>\n",
       "      <td>10.0</td>\n",
       "      <td>0.0</td>\n",
       "      <td>0.0</td>\n",
       "      <td>1.0</td>\n",
       "      <td>0.0</td>\n",
       "      <td>0.0</td>\n",
       "    </tr>\n",
       "  </tbody>\n",
       "</table>\n",
       "<p>1 rows × 41 columns</p>\n",
       "</div>"
      ],
      "text/plain": [
       "   Hour_cosine  Hour_sine  Day_of_week_cosine  Day_of_week_sine  Is_weekday  \\\n",
       "0     0.203456   0.979084                -1.0      1.224647e-16         1.0   \n",
       "\n",
       "   Is_night  Season_cosine  Season_sine  net_rate_previous_hour  Dock_Count  \\\n",
       "0       0.0           -0.5    -0.866025                     0.0        15.0   \n",
       "\n",
       "   ...  Min DewpointF  Min Humidity  Min Sea Level PressureIn  \\\n",
       "0  ...           55.0          61.0                     29.91   \n",
       "\n",
       "   Min TemperatureF  Min VisibilityMiles  Zip_94041  Zip_94063  Zip_94107  \\\n",
       "0              60.0                 10.0        0.0        0.0        1.0   \n",
       "\n",
       "   Zip_94301  Zip_95113  \n",
       "0        0.0        0.0  \n",
       "\n",
       "[1 rows x 41 columns]"
      ]
     },
     "execution_count": 20,
     "metadata": {},
     "output_type": "execute_result"
    }
   ],
   "source": [
    "import pandas as pd\n",
    "\n",
    "df = pd.DataFrame.from_dict(val.json()['data'], orient='index').T\n",
    "df"
   ]
  },
  {
   "cell_type": "code",
   "execution_count": 22,
   "metadata": {},
   "outputs": [
    {
     "name": "stdout",
     "output_type": "stream",
     "text": [
      "2020-11-23 20:02:28,699 - kedro.io.data_catalog - INFO - Loading data from `rf_model` (PickleDataSet)...\n"
     ]
    },
    {
     "data": {
      "text/plain": [
       "array([-0.03990634])"
      ]
     },
     "execution_count": 22,
     "metadata": {},
     "output_type": "execute_result"
    }
   ],
   "source": [
    "model = catalog.load('rf_model')\n",
    "model.predict(df)"
   ]
  },
  {
   "cell_type": "code",
   "execution_count": null,
   "metadata": {},
   "outputs": [],
   "source": [
    "answer = {\n",
    "        \"predict_date\": val.headers['date']\n",
    "        \"row_index\": \n",
    "        \"predict\":\n",
    "}"
   ]
  }
 ],
 "metadata": {
  "kernelspec": {
   "display_name": "bike",
   "language": "python",
   "name": "python3"
  },
  "language_info": {
   "codemirror_mode": {
    "name": "ipython",
    "version": 3
   },
   "file_extension": ".py",
   "mimetype": "text/x-python",
   "name": "python",
   "nbconvert_exporter": "python",
   "pygments_lexer": "ipython3",
   "version": "3.8.6"
  }
 },
 "nbformat": 4,
 "nbformat_minor": 4
}
