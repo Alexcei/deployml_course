{
 "cells": [
  {
   "cell_type": "code",
   "execution_count": 1,
   "metadata": {},
   "outputs": [],
   "source": [
    "import bonobo\n",
    "import requests\n",
    "from bonobo.config import use_context_processor\n",
    "from bonobo.config import use"
   ]
  },
  {
   "cell_type": "code",
   "execution_count": 23,
   "metadata": {},
   "outputs": [],
   "source": [
    "# используем http из bonobo\n",
    "@use('http')\n",
    "def extract(http):\n",
    "    \"\"\"\n",
    "        Получаем данные с сервиса\n",
    "    \"\"\"\n",
    "    yield from http.get('http://89.253.237.183:9876/data').json().get('data')\n",
    "\n",
    "\n",
    "def get_services():\n",
    "    \"\"\"\n",
    "       Указываем тип сервиса\n",
    "    \"\"\"\n",
    "    http = requests.Session()\n",
    "    return {\n",
    "        'http': http\n",
    "    }    \n",
    "    \n",
    "    \n",
    "def with_opened_file(self, context):\n",
    "    \"\"\"\n",
    "        Файл для записи результатов\n",
    "    \"\"\"\n",
    "    with open('output.txt', 'w+',  encoding='utf-8') as f:\n",
    "        yield f\n",
    "\n",
    "# на основе контекста, который работыет с файлом\n",
    "# мы создаем контролиремый процесс записи\n",
    "@use_context_processor(with_opened_file)\n",
    "def write_repr_to_file(f, *row):\n",
    "    \"\"\"\n",
    "       Записываем все полученные строки в файл\n",
    "    \"\"\"\n",
    "    f.write(repr(row) + \"\\n\")\n",
    "\n",
    "\n",
    "def get_graph(**options):\n",
    "    \"\"\"\n",
    "       создаем граф выполнения\n",
    "    \"\"\"\n",
    "    \n",
    "    graph = bonobo.Graph()\n",
    "    \n",
    "    graph.add_chain(\n",
    "        extract,\n",
    "        write_repr_to_file,\n",
    "    )\n",
    "    return graph\n",
    "\n",
    "\n"
   ]
  },
  {
   "cell_type": "code",
   "execution_count": 24,
   "metadata": {},
   "outputs": [
    {
     "data": {
      "application/vnd.jupyter.widget-view+json": {
       "model_id": "d0c8a552dc4e49f3b837d5beb66220ac",
       "version_major": 2,
       "version_minor": 0
      },
      "text/plain": [
       "BonoboWidget()"
      ]
     },
     "metadata": {},
     "output_type": "display_data"
    },
    {
     "data": {
      "text/plain": [
       "<bonobo.execution.contexts.graph.GraphExecutionContext at 0x29809a168b0>"
      ]
     },
     "execution_count": 24,
     "metadata": {},
     "output_type": "execute_result"
    }
   ],
   "source": [
    "# выполним и посмотрим на результат\n",
    "\n",
    "bonobo.run(get_graph(), services=get_services())"
   ]
  },
  {
   "cell_type": "markdown",
   "metadata": {},
   "source": [
    "### Пару слов о Generators | Iterators"
   ]
  },
  {
   "cell_type": "markdown",
   "metadata": {},
   "source": [
    "![](iter.png)"
   ]
  },
  {
   "cell_type": "code",
   "execution_count": 53,
   "metadata": {},
   "outputs": [
    {
     "name": "stdout",
     "output_type": "stream",
     "text": [
      "0\n",
      "1\n",
      "2\n",
      "3\n",
      "4\n",
      "5\n",
      "6\n",
      "7\n",
      "8\n",
      "9\n"
     ]
    }
   ],
   "source": [
    "some_steps = iter(range(0, 10))\n",
    "for i in some_steps:\n",
    "    print(i)"
   ]
  },
  {
   "cell_type": "code",
   "execution_count": 54,
   "metadata": {},
   "outputs": [
    {
     "ename": "StopIteration",
     "evalue": "",
     "output_type": "error",
     "traceback": [
      "\u001b[1;31m---------------------------------------------------------------------------\u001b[0m",
      "\u001b[1;31mStopIteration\u001b[0m                             Traceback (most recent call last)",
      "\u001b[1;32m<ipython-input-54-300aaa4998e5>\u001b[0m in \u001b[0;36m<module>\u001b[1;34m\u001b[0m\n\u001b[1;32m----> 1\u001b[1;33m \u001b[0mnext\u001b[0m\u001b[1;33m(\u001b[0m\u001b[0msome_steps\u001b[0m\u001b[1;33m)\u001b[0m\u001b[1;33m\u001b[0m\u001b[1;33m\u001b[0m\u001b[0m\n\u001b[0m",
      "\u001b[1;31mStopIteration\u001b[0m: "
     ]
    }
   ],
   "source": [
    "next(some_steps)"
   ]
  },
  {
   "cell_type": "markdown",
   "metadata": {},
   "source": [
    "для доступа к содержимому агрегированных объектов без раскрытия их внутреннего представления;\n",
    "\n",
    "для поддержки нескольких активных обходов одного и того же агрегированного объекта (желательно, но не обязательно);\n",
    "\n",
    "для предоставления единообразного интерфейса с целью обхода различных агрегированных структур."
   ]
  },
  {
   "cell_type": "code",
   "execution_count": 39,
   "metadata": {},
   "outputs": [
    {
     "data": {
      "text/plain": [
       "8"
      ]
     },
     "execution_count": 39,
     "metadata": {},
     "output_type": "execute_result"
    }
   ],
   "source": [
    "# запомним! Основная необходимость самому создавать итератор\n",
    "# => это использовать в определенный момент одно значение, а не хранить весь список\n",
    "# например, вы делаете сложное вычисление или создаете тяжелый объекты\n",
    "\n",
    "# Пример - класс итератор\n",
    "class SuperCounter:\n",
    "    \n",
    "    # создаение максимального объекта (устанавливает пользователь)\n",
    "    def __init__(self,max=1):\n",
    "        self.max=max\n",
    "    \n",
    "    # делаем указатель итератора\n",
    "    def __iter__(self):\n",
    "        self.n=1\n",
    "        return self\n",
    "    \n",
    "    # указываем действия при вызове элемента\n",
    "    def __next__(self):\n",
    "        if self.n<=self.max:\n",
    "            # если элементы ещё существуют в списке\n",
    "            result=(2**self.n)**3\n",
    "            self.n+=1\n",
    "            return result\n",
    "        else:\n",
    "            # если закончились элементы\n",
    "            raise StopIteration\n",
    "            \n",
    "            \n",
    "a = iter(SuperCounter(2))\n",
    "next(a)"
   ]
  },
  {
   "cell_type": "code",
   "execution_count": null,
   "metadata": {},
   "outputs": [],
   "source": [
    "# итерируемый объект — это любой объект, от которого встроенная функция iter() может получить итератор\n",
    "\n",
    "# итератор в python — это любой объект, реализующий метод __next__ без аргументов, который должен вернуть следующий элемент или ошибку StopIteration\n"
   ]
  },
  {
   "cell_type": "code",
   "execution_count": 49,
   "metadata": {},
   "outputs": [
    {
     "data": {
      "text/plain": [
       "<generator object myGenerator at 0x0000029809E8BF90>"
      ]
     },
     "execution_count": 49,
     "metadata": {},
     "output_type": "execute_result"
    }
   ],
   "source": [
    "# generator\n",
    "# объект, который создает итерируеую последовательность\n",
    "# ключевое слово yield (а не return)\n",
    "\n",
    "def myGenerator():\n",
    "    i = 0\n",
    "    \n",
    "    while (i <= 5):\n",
    "        # делаем возврат yeild, а не return\n",
    "        yield i\n",
    "        \n",
    "        #и после yield мы можем ещё делать действия\n",
    "        i+=1\n",
    "        \n",
    "# получаем интересный объект\n",
    "# Объект-генератор реализует интерфейс итератора, соответственно с этим объектом можно работать, как с любым другим итерируемым объектом.\n",
    "myGenerator()"
   ]
  },
  {
   "cell_type": "markdown",
   "metadata": {},
   "source": [
    "yeld:\n",
    "\n",
    "при вызове функции myGenerator создается объект-генератор\n",
    "\n",
    "в цикле вызывает функция next() с этим итератором пока не будет получено исключение StopIteration\n",
    "\n",
    "при каждом вызове next выполнение в функции начинается с того места где было завершено в последний раз и продолжается до следующего yield\n",
    "\n",
    "равнозначно:\n",
    "\n",
    "```\n",
    "def myGenerator_1(i):\n",
    "    if i <= 1:\n",
    "        yield i\n",
    "...\n",
    "\n",
    "def myGenerator_5(i):\n",
    "    if i <= 5:\n",
    "        yield i\n",
    "\n",
    "def myGenerator_end(i):\n",
    "    raise StopIteration\n",
    "\n",
    "```"
   ]
  },
  {
   "cell_type": "code",
   "execution_count": 50,
   "metadata": {},
   "outputs": [
    {
     "name": "stdout",
     "output_type": "stream",
     "text": [
      "[0, 1, 2, 3, 4, 5]\n",
      "0\n",
      "1\n",
      "2\n",
      "3\n",
      "4\n",
      "5\n"
     ]
    }
   ],
   "source": [
    "# как его получить\n",
    "\n",
    "# 1\n",
    "print(list(myGenerator()))\n",
    "\n",
    "# 2\n",
    "for i in myGenerator():\n",
    "    print(i)"
   ]
  },
  {
   "cell_type": "code",
   "execution_count": 55,
   "metadata": {},
   "outputs": [
    {
     "name": "stdout",
     "output_type": "stream",
     "text": [
      "Event\n",
      "Event\n",
      "Event\n",
      "Event\n"
     ]
    }
   ],
   "source": [
    "# действие от события, без остановки основного выполнения\n",
    "def myGenerator(x):\n",
    "    while(x>0):\n",
    "        # исполняем до ожидаемого события\n",
    "        if x%2==0:\n",
    "            # действие произошло без блокировани (остаовки) выполнения функции\n",
    "            yield 'Event'\n",
    "            \n",
    "        else:\n",
    "            pass\n",
    "        \n",
    "        x-=1\n",
    "        \n",
    "for i in myGenerator(9):\n",
    "    print(i)"
   ]
  },
  {
   "cell_type": "code",
   "execution_count": 51,
   "metadata": {},
   "outputs": [
    {
     "data": {
      "text/plain": [
       "96"
      ]
     },
     "execution_count": 51,
     "metadata": {},
     "output_type": "execute_result"
    }
   ],
   "source": [
    "myGenerator().__sizeof__()"
   ]
  },
  {
   "cell_type": "code",
   "execution_count": 52,
   "metadata": {},
   "outputs": [
    {
     "data": {
      "text/plain": [
       "32"
      ]
     },
     "execution_count": 52,
     "metadata": {},
     "output_type": "execute_result"
    }
   ],
   "source": [
    "iter([0, 1, 2, 3, 4, 5]).__sizeof__()"
   ]
  },
  {
   "cell_type": "markdown",
   "metadata": {},
   "source": [
    "### Bonobo ETL"
   ]
  },
  {
   "cell_type": "code",
   "execution_count": 149,
   "metadata": {},
   "outputs": [],
   "source": [
    "# используем http из bonobo\n",
    "#Extract\n",
    "@use('http')\n",
    "def extract(http):\n",
    "    \"\"\"\n",
    "        Получаем данные с сервиса\n",
    "    \"\"\"\n",
    "    \n",
    "    # сделаем выбор объекта, который будем возвращать\n",
    "    yield http.get('http://89.253.237.183:9876/data').json().get('data')\n",
    "    \n",
    "    #return http.get('http://89.253.237.183:9876/data').json().get('data')\n",
    "    \n",
    "    #dct = http.get('http://89.253.237.183:9876/data').json().get('data')\n",
    "    #for i in dct.keys():\n",
    "    #    yield (i, dct[i])\n",
    "        \n",
    "    \n",
    "\n",
    "def get_services():\n",
    "    \"\"\"\n",
    "       Указываем тип сервиса\n",
    "    \"\"\"\n",
    "    http = requests.Session()\n",
    "    return {\n",
    "        'http': http\n",
    "    } \n",
    "    \n",
    "\n",
    "\n",
    "###########\n",
    "#transform\n",
    "def transform(*args):\n",
    "    for i in args[0].keys():\n",
    "        if 'Zip' in i:\n",
    "            yield (i, f\"100{args[0][i]}\")\n",
    "            \n",
    "            \n",
    "#############\n",
    "#Load\n",
    "def with_opened_file(self, context):\n",
    "    \"\"\"\n",
    "        Файл для записи результатов\n",
    "    \"\"\"\n",
    "    with open('output.txt', 'w+',  encoding='utf-8') as f:\n",
    "        yield f\n",
    "\n",
    "# на основе контекста, который работыет с файлом\n",
    "# мы создаем контролиремый процесс записи\n",
    "@use_context_processor(with_opened_file)\n",
    "def write_repr_to_file(f, *row):\n",
    "    \"\"\"\n",
    "       Записываем все полученные строки в файл\n",
    "    \"\"\"\n",
    "    f.write(\",\".join(row) + \"\\n\")    \n",
    "    \n",
    "    \n",
    "def get_graph(**options):\n",
    "    \"\"\"\n",
    "       создаем граф выполнения\n",
    "    \"\"\"\n",
    "    \n",
    "    graph = bonobo.Graph()\n",
    "    \n",
    "    graph.add_chain(\n",
    "        extract,\n",
    "        transform,\n",
    "        bonobo.PrettyPrinter(),\n",
    "        bonobo.Limit(3),\n",
    "        write_repr_to_file,\n",
    "        \n",
    "    )\n",
    "    return graph\n",
    "\n",
    "\n"
   ]
  },
  {
   "cell_type": "code",
   "execution_count": 150,
   "metadata": {},
   "outputs": [
    {
     "data": {
      "application/vnd.jupyter.widget-view+json": {
       "model_id": "32d1f60090fc4a1ca40cc147cca4e4bb",
       "version_major": 2,
       "version_minor": 0
      },
      "text/plain": [
       "BonoboWidget()"
      ]
     },
     "metadata": {},
     "output_type": "display_data"
    },
    {
     "data": {
      "text/html": [
       "<table>\n",
       "<thead><tr>\n",
       "<th>0</th>\n",
       "<th>1</th>\n",
       "</tr></thead>\n",
       "<tr>\n",
       "<td>&#x27;Zip_94041&#x27;</td>\n",
       "<td>&#x27;1000&#x27;</td>\n",
       "</tr>\n",
       "<tr>\n",
       "<td>&#x27;Zip_94063&#x27;</td>\n",
       "<td>&#x27;1000&#x27;</td>\n",
       "</tr>\n",
       "<tr>\n",
       "<td>&#x27;Zip_94107&#x27;</td>\n",
       "<td>&#x27;1000&#x27;</td>\n",
       "</tr>\n",
       "<tr>\n",
       "<td>&#x27;Zip_94301&#x27;</td>\n",
       "<td>&#x27;1000&#x27;</td>\n",
       "</tr>\n",
       "<tr>\n",
       "<td>&#x27;Zip_95113&#x27;</td>\n",
       "<td>&#x27;1001&#x27;</td>\n",
       "</tr>\n",
       "</table>"
      ],
      "text/plain": [
       "<IPython.core.display.HTML object>"
      ]
     },
     "metadata": {},
     "output_type": "display_data"
    },
    {
     "data": {
      "text/plain": [
       "<bonobo.execution.contexts.graph.GraphExecutionContext at 0x2980b5be160>"
      ]
     },
     "execution_count": 150,
     "metadata": {},
     "output_type": "execute_result"
    }
   ],
   "source": [
    "# выполним и посмотрим на результат\n",
    "\n",
    "bonobo.run(get_graph(), services=get_services())"
   ]
  },
  {
   "cell_type": "markdown",
   "metadata": {},
   "source": [
    "### Bonobo + Kedro"
   ]
  },
  {
   "cell_type": "code",
   "execution_count": 157,
   "metadata": {},
   "outputs": [
    {
     "name": "stderr",
     "output_type": "stream",
     "text": [
      "c:\\program files\\python38\\lib\\site-packages\\ipykernel\\ipkernel.py:287: DeprecationWarning: `should_run_async` will not call `transform_cell` automatically in the future. Please pass the result to `transformed_cell` argument and any exception that happen during thetransform in `preprocessing_exc_tuple` in IPython 7.17 and above.\n",
      "  and should_run_async(code)\n"
     ]
    }
   ],
   "source": [
    "from kedro.context import load_context\n",
    "from kedro.extras.datasets.api import APIDataSet\n",
    "\n",
    "def kedro_de_pipeline():\n",
    "    \"\"\"\n",
    "        подключаем нужный pipeline\n",
    "    \"\"\"\n",
    "    context = load_context(\"../\")\n",
    "    context.run(pipeline_name='de')\n",
    "\n",
    "def get_graph(**options):\n",
    "    \"\"\"\n",
    "       создаем граф выполнения\n",
    "    \"\"\"\n",
    "    \n",
    "    graph = bonobo.Graph()\n",
    "    \n",
    "    graph.add_chain(\n",
    "        kedro_de_pipeline        \n",
    "    )\n",
    "    return graph\n"
   ]
  },
  {
   "cell_type": "code",
   "execution_count": 156,
   "metadata": {},
   "outputs": [
    {
     "data": {
      "application/vnd.jupyter.widget-view+json": {
       "model_id": "2ef247c95c5547b2a674504f00763f8a",
       "version_major": 2,
       "version_minor": 0
      },
      "text/plain": [
       "BonoboWidget()"
      ]
     },
     "metadata": {},
     "output_type": "display_data"
    },
    {
     "name": "stdout",
     "output_type": "stream",
     "text": [
      "2020-12-17 19:01:36,934 - root - INFO - ** Kedro project p7\n",
      "2020-12-17 19:01:37,725 - kedro.versioning.journal - WARNING - Unable to git describe C:\\Users\\Admin\\Desktop\\couch\\DeployML\\COURSE\\course_parts\\p7\n",
      "2020-12-17 19:01:40,766 - kedro.io.data_catalog - INFO - Loading data from `station_data` (CSVDataSet)...\n"
     ]
    },
    {
     "name": "stderr",
     "output_type": "stream",
     "text": [
      "c:\\program files\\python38\\lib\\site-packages\\fsspec\\implementations\\local.py:29: FutureWarning: The default value of auto_mkdir=True has been deprecated and will be changed to auto_mkdir=False by default in a future release.\n",
      "  warnings.warn(\n"
     ]
    },
    {
     "name": "stdout",
     "output_type": "stream",
     "text": [
      "2020-12-17 19:01:41,007 - kedro.io.data_catalog - INFO - Loading data from `trip_data` (CSVDataSet)...\n",
      "2020-12-17 19:01:44,719 - kedro.io.data_catalog - INFO - Loading data from `weather_data` (CSVDataSet)...\n",
      "2020-12-17 19:01:44,758 - kedro.io.data_catalog - INFO - Loading data from `params:station_nes_names` (MemoryDataSet)...\n",
      "2020-12-17 19:01:44,760 - kedro.io.data_catalog - INFO - Loading data from `params:zip_code` (MemoryDataSet)...\n",
      "2020-12-17 19:01:44,762 - kedro.io.data_catalog - INFO - Loading data from `params:trip_nes_names` (MemoryDataSet)...\n",
      "2020-12-17 19:01:44,764 - kedro.io.data_catalog - INFO - Loading data from `params:map_id` (MemoryDataSet)...\n",
      "2020-12-17 19:01:44,767 - kedro.pipeline.node - INFO - Running node: preparator([params:map_id,params:station_nes_names,params:trip_nes_names,params:zip_code,station_data,trip_data,weather_data]) -> [clean_station_data,clean_trip_data,clean_weather_data]\n",
      "2020-12-17 19:01:45,186 - kedro.io.data_catalog - INFO - Saving data to `clean_station_data` (MemoryDataSet)...\n",
      "2020-12-17 19:01:45,189 - kedro.io.data_catalog - INFO - Saving data to `clean_trip_data` (MemoryDataSet)...\n",
      "2020-12-17 19:01:45,201 - kedro.io.data_catalog - INFO - Saving data to `clean_weather_data` (MemoryDataSet)...\n",
      "2020-12-17 19:01:45,215 - kedro.runner.sequential_runner - INFO - Completed 1 out of 6 tasks\n",
      "2020-12-17 19:01:45,217 - kedro.io.data_catalog - INFO - Loading data from `clean_station_data` (MemoryDataSet)...\n",
      "2020-12-17 19:01:45,218 - kedro.io.data_catalog - INFO - Loading data from `params:mind` (MemoryDataSet)...\n",
      "2020-12-17 19:01:45,220 - kedro.io.data_catalog - INFO - Loading data from `params:maxd` (MemoryDataSet)...\n",
      "2020-12-17 19:01:45,222 - kedro.io.data_catalog - INFO - Loading data from `params:freq` (MemoryDataSet)...\n",
      "2020-12-17 19:01:45,224 - kedro.pipeline.node - INFO - Running node: index_creator([clean_station_data,params:freq,params:maxd,params:mind]) -> [idx]\n"
     ]
    },
    {
     "name": "stderr",
     "output_type": "stream",
     "text": [
      "c:\\program files\\python38\\lib\\site-packages\\pandas\\core\\series.py:4563: SettingWithCopyWarning: \n",
      "A value is trying to be set on a copy of a slice from a DataFrame\n",
      "\n",
      "See the caveats in the documentation: https://pandas.pydata.org/pandas-docs/stable/user_guide/indexing.html#returning-a-view-versus-a-copy\n",
      "  return super().replace(\n"
     ]
    },
    {
     "name": "stdout",
     "output_type": "stream",
     "text": [
      "2020-12-17 19:01:45,440 - kedro.io.data_catalog - INFO - Saving data to `idx` (MemoryDataSet)...\n",
      "2020-12-17 19:01:45,443 - kedro.runner.sequential_runner - INFO - Completed 2 out of 6 tasks\n",
      "2020-12-17 19:01:45,445 - kedro.io.data_catalog - INFO - Loading data from `clean_weather_data` (MemoryDataSet)...\n",
      "2020-12-17 19:01:45,447 - kedro.pipeline.node - INFO - Running node: cleanning([clean_weather_data]) -> [clean_weather_data_new]\n",
      "2020-12-17 19:01:45,737 - numexpr.utils - INFO - NumExpr defaulting to 4 threads.\n",
      "2020-12-17 19:01:45,849 - kedro.io.data_catalog - INFO - Saving data to `clean_weather_data_new` (MemoryDataSet)...\n",
      "2020-12-17 19:01:45,851 - kedro.runner.sequential_runner - INFO - Completed 3 out of 6 tasks\n",
      "2020-12-17 19:01:45,852 - kedro.io.data_catalog - INFO - Loading data from `clean_trip_data` (MemoryDataSet)...\n",
      "2020-12-17 19:01:45,866 - kedro.io.data_catalog - INFO - Loading data from `idx` (MemoryDataSet)...\n",
      "2020-12-17 19:01:45,870 - kedro.io.data_catalog - INFO - Loading data from `params:resample_list` (MemoryDataSet)...\n",
      "2020-12-17 19:01:45,872 - kedro.io.data_catalog - INFO - Loading data from `params:freq` (MemoryDataSet)...\n",
      "2020-12-17 19:01:45,874 - kedro.pipeline.node - INFO - Running node: resample([clean_trip_data,idx,params:freq,params:resample_list]) -> [resample_df]\n",
      "2020-12-17 19:01:54,959 - kedro.io.data_catalog - INFO - Saving data to `resample_df` (MemoryDataSet)...\n",
      "2020-12-17 19:01:55,043 - kedro.runner.sequential_runner - INFO - Completed 4 out of 6 tasks\n",
      "2020-12-17 19:01:55,045 - kedro.io.data_catalog - INFO - Loading data from `resample_df` (MemoryDataSet)...\n",
      "2020-12-17 19:01:55,052 - kedro.io.data_catalog - INFO - Loading data from `clean_station_data` (MemoryDataSet)...\n",
      "2020-12-17 19:01:55,054 - kedro.io.data_catalog - INFO - Loading data from `clean_weather_data_new` (MemoryDataSet)...\n",
      "2020-12-17 19:01:55,057 - kedro.io.data_catalog - INFO - Loading data from `clean_trip_data` (MemoryDataSet)...\n",
      "2020-12-17 19:01:55,070 - kedro.io.data_catalog - INFO - Loading data from `idx` (MemoryDataSet)...\n",
      "2020-12-17 19:01:55,073 - kedro.pipeline.node - INFO - Running node: transform([clean_station_data,clean_trip_data,clean_weather_data_new,idx,resample_df]) -> [df_agg]\n",
      "2020-12-17 19:02:40,202 - kedro.io.data_catalog - INFO - Saving data to `df_agg` (MemoryDataSet)...\n",
      "2020-12-17 19:02:40,441 - kedro.runner.sequential_runner - INFO - Completed 5 out of 6 tasks\n",
      "2020-12-17 19:02:40,443 - kedro.io.data_catalog - INFO - Loading data from `df_agg` (MemoryDataSet)...\n",
      "2020-12-17 19:02:40,565 - kedro.io.data_catalog - INFO - Loading data from `params:seed` (MemoryDataSet)...\n",
      "2020-12-17 19:02:40,567 - kedro.pipeline.node - INFO - Running node: split([df_agg,params:seed]) -> [test_x,test_y,train_x,train_y]\n",
      "2020-12-17 19:02:41,230 - kedro.io.data_catalog - INFO - Saving data to `train_x` (CSVDataSet)...\n",
      "2020-12-17 19:03:06,347 - kedro.io.data_catalog - INFO - Saving data to `train_y` (CSVDataSet)...\n",
      "2020-12-17 19:03:08,333 - kedro.io.data_catalog - INFO - Saving data to `test_x` (CSVDataSet)...\n",
      "2020-12-17 19:03:20,220 - kedro.io.data_catalog - INFO - Saving data to `test_y` (CSVDataSet)...\n",
      "2020-12-17 19:03:20,995 - kedro.runner.sequential_runner - INFO - Completed 6 out of 6 tasks\n",
      "2020-12-17 19:03:20,997 - kedro.runner.sequential_runner - INFO - Pipeline execution completed successfully.\n"
     ]
    },
    {
     "data": {
      "text/plain": [
       "<bonobo.execution.contexts.graph.GraphExecutionContext at 0x2981abb0970>"
      ]
     },
     "execution_count": 156,
     "metadata": {},
     "output_type": "execute_result"
    }
   ],
   "source": [
    "bonobo.run(get_graph())"
   ]
  },
  {
   "cell_type": "code",
   "execution_count": null,
   "metadata": {},
   "outputs": [],
   "source": []
  }
 ],
 "metadata": {
  "kernelspec": {
   "display_name": "bike",
   "language": "python",
   "name": "python3"
  },
  "language_info": {
   "codemirror_mode": {
    "name": "ipython",
    "version": 3
   },
   "file_extension": ".py",
   "mimetype": "text/x-python",
   "name": "python",
   "nbconvert_exporter": "python",
   "pygments_lexer": "ipython3",
   "version": "3.8.6"
  }
 },
 "nbformat": 4,
 "nbformat_minor": 4
}
