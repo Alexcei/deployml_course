{
 "cells": [
  {
   "cell_type": "markdown",
   "metadata": {},
   "source": [
    "# FS Feast"
   ]
  },
  {
   "cell_type": "markdown",
   "metadata": {},
   "source": [
    "### Configuration"
   ]
  },
  {
   "cell_type": "markdown",
   "metadata": {},
   "source": [
    "Создать 2 переменные среды \n",
    "\n",
    "```bash\n",
    "os.environ[\"FEAST_CORE_URL\"] = \"path:6565\"\n",
    "os.environ[\"FEAST_SERVING_URL\"] = \"path:6566\"\n",
    "```"
   ]
  },
  {
   "cell_type": "code",
   "execution_count": 2,
   "metadata": {},
   "outputs": [],
   "source": [
    "import os\n",
    "\n",
    "from feast import Client, Feature, Entity, ValueType, FeatureTable\n",
    "from feast.data_source import FileSource, KafkaSource\n",
    "from feast.data_format import ParquetFormat, AvroFormat"
   ]
  },
  {
   "cell_type": "code",
   "execution_count": 3,
   "metadata": {},
   "outputs": [],
   "source": [
    "# создаем клиента для FS\n",
    "client = Client()"
   ]
  },
  {
   "cell_type": "markdown",
   "metadata": {},
   "source": [
    "### Устанавливаем параметры фичей"
   ]
  },
  {
   "cell_type": "code",
   "execution_count": null,
   "metadata": {},
   "outputs": [],
   "source": [
    "# entity == key\n",
    "driver_id = Entity(name=\"user_id\", description=\"Общий агреграт по пользователю\", value_type=ValueType.INT64)"
   ]
  },
  {
   "cell_type": "code",
   "execution_count": null,
   "metadata": {},
   "outputs": [],
   "source": [
    "# Обычные фичи по пользователю / агрегаты\n",
    "acc_rate = Feature(\"acc_rate\", ValueType.FLOAT)\n",
    "conv_rate = Feature(\"conv_rate\", ValueType.FLOAT)\n",
    "avg_daily_trips = Feature(\"avg_daily_trips\", ValueType.INT32)"
   ]
  },
  {
   "cell_type": "markdown",
   "metadata": {},
   "source": [
    "```python\n",
    "FeatureTable(\n",
    "    name = \"Общий агреграт по пользователю\",\n",
    "    entities = [\"user_id\"],\n",
    "    features = [\n",
    "        acc_rate,\n",
    "        conv_rate,\n",
    "        avg_daily_trips\n",
    "    ]\n",
    "    ...\n",
    ")\n",
    "```"
   ]
  },
  {
   "cell_type": "code",
   "execution_count": null,
   "metadata": {},
   "outputs": [],
   "source": [
    "# сохраняем как офлайн фичи\n",
    "data_location = os.path.join(os.getenv(\"FEAST_LOCATION\", \"file:///data/warehouse/nameartem/\"), \"users_data\")"
   ]
  },
  {
   "cell_type": "code",
   "execution_count": 6,
   "metadata": {},
   "outputs": [],
   "source": [
    "user_source = os.path.join(data_location, \"user_statistics\")\n",
    "\n",
    "# создаем таблицу с данными\n",
    "users_statistics = FeatureTable(\n",
    "    name = \"Общий агреграт по пользователю\",\n",
    "    entities = [\"user_id\"],\n",
    "    features = [\n",
    "        acc_rate,\n",
    "        conv_rate,\n",
    "        avg_daily_trips\n",
    "    ]\n",
    ")"
   ]
  },
  {
   "cell_type": "markdown",
   "metadata": {},
   "source": [
    "### Registering entities and feature tables in Feast Core"
   ]
  },
  {
   "cell_type": "code",
   "execution_count": 8,
   "metadata": {},
   "outputs": [],
   "source": [
    "client.apply(users_statistics)"
   ]
  },
  {
   "cell_type": "code",
   "execution_count": null,
   "metadata": {},
   "outputs": [],
   "source": [
    "client.get_feature_table(\"user_statistics\").to_yaml()"
   ]
  },
  {
   "cell_type": "markdown",
   "metadata": {},
   "source": [
    "```yaml\n",
    "spec:\n",
    "  name: Общий агреграт по пользователю\n",
    "  entities:\n",
    "  - user_id\n",
    "  features:\n",
    "  - name: conv_rate\n",
    "    valueType: FLOAT\n",
    "  - name: avg_daily_trips\n",
    "    valueType: INT32\n",
    "  - name: acc_rate\n",
    "    valueType: FLOAT\n",
    "    fileOptions:\n",
    "      fileFormat:\n",
    "        parquetFormat: {}\n",
    "      fileUrl: file:///data/warehouse/nameartem/\n",
    "meta:\n",
    "```"
   ]
  },
  {
   "cell_type": "markdown",
   "metadata": {},
   "source": [
    "### Замена данных"
   ]
  },
  {
   "cell_type": "code",
   "execution_count": 13,
   "metadata": {},
   "outputs": [],
   "source": [
    "user_stat_m = pd.DataFrame()"
   ]
  },
  {
   "cell_type": "code",
   "execution_count": null,
   "metadata": {},
   "outputs": [],
   "source": [
    "# ingest\n",
    "client.ingest(users_statistics, user_stat_m)"
   ]
  },
  {
   "cell_type": "markdown",
   "metadata": {},
   "source": [
    "### Загрузить данные"
   ]
  },
  {
   "cell_type": "code",
   "execution_count": 19,
   "metadata": {},
   "outputs": [],
   "source": [
    "job = client.get_historical_features(\n",
    "    feature_refs=[\n",
    "        \"user_statistics:avg_daily_trips\",\n",
    "        \"user_statistics:conv_rate\",\n",
    "        \"user_statistics:acc_rate\"\n",
    "    ]\n",
    ")"
   ]
  },
  {
   "cell_type": "code",
   "execution_count": null,
   "metadata": {},
   "outputs": [],
   "source": [
    "pd.DataFrame(job.to_dict())"
   ]
  },
  {
   "cell_type": "markdown",
   "metadata": {},
   "source": [
    "---------------------------------------\n",
    "\n",
    "# FS HopsWorks"
   ]
  },
  {
   "cell_type": "code",
   "execution_count": null,
   "metadata": {},
   "outputs": [],
   "source": [
    "from hops import featurestore\n",
    "from hops import serving\n",
    "from hops import model\n",
    "from hops import hdfs\n",
    "import io.hops.util.Hops"
   ]
  },
  {
   "cell_type": "code",
   "execution_count": null,
   "metadata": {},
   "outputs": [],
   "source": [
    "# запись фичей\n",
    "featurestore.insert_into_featuregroup(pd.DataFrame(), \"название набора\")"
   ]
  },
  {
   "cell_type": "code",
   "execution_count": null,
   "metadata": {},
   "outputs": [],
   "source": [
    "# чтение фичей \n",
    "features_df = featurestore.get_features([\"set:feature_1\", \"set:feature_2\", \"set:feature_N\"])"
   ]
  },
  {
   "cell_type": "code",
   "execution_count": null,
   "metadata": {},
   "outputs": [],
   "source": [
    "# чтение всего набора фичей (как pd.DataFrame)\n",
    "featurestore.get_featuregroup(\"название набора\", dataframe_type=\"pandas\")"
   ]
  },
  {
   "cell_type": "markdown",
   "metadata": {},
   "source": [
    "### Создание API"
   ]
  },
  {
   "cell_type": "code",
   "execution_count": null,
   "metadata": {},
   "outputs": [],
   "source": [
    "script_path = \"путь до модели или где читаем фичи\"\n",
    "\n",
    "# проверям на существование и извлекаем\n",
    "model.export(script_path, \"DataSample\")\n",
    "if serving.exists(\"DataSample\"):\n",
    "    serving.delete(\"DataSample\")\n",
    "\n",
    "# прогоняем скрипт\n",
    "serving.create_or_update(script_path, \n",
    "                         \"DataSample\",\n",
    "                         serving_type=\"sklearn\",\n",
    "                         model_version=28)\n",
    "\n",
    "# стартуем)\n",
    "serving.start(\"DataSample\")\n",
    "response = serving.make_inference_request(\"LOCALHOST\", \"данные\")"
   ]
  },
  {
   "cell_type": "markdown",
   "metadata": {},
   "source": [
    "### Работы с HDFS"
   ]
  },
  {
   "cell_type": "code",
   "execution_count": null,
   "metadata": {},
   "outputs": [],
   "source": [
    "hdfs.ls(\"data/warehouse\")\n",
    "hdfs.cp()\n",
    "hdfs.mkdir(\"data/warehouse/test_dir\")\n",
    "hdfs.rmr(\"data/warehouse/test_dir\")\n",
    "hdfs.move()\n",
    "hdfs.chmod(\"data/warehouse\", 700)\n",
    "hdfs.exists(\"data/warehouse/\")\n",
    "hdfs.copy_to_hdfs(\"data/warehouse/test_dir\", \"/\", overwrite=True)\n",
    "hdfs.copy_to_local(\"data/warehouse/test_dir\", overwrite=True)"
   ]
  },
  {
   "cell_type": "code",
   "execution_count": null,
   "metadata": {},
   "outputs": [],
   "source": []
  }
 ],
 "metadata": {
  "kernelspec": {
   "display_name": "Python3",
   "language": "python",
   "name": "python3"
  },
  "language_info": {
   "codemirror_mode": {
    "name": "ipython",
    "version": 3
   },
   "file_extension": ".py",
   "mimetype": "text/x-python",
   "name": "python",
   "nbconvert_exporter": "python",
   "pygments_lexer": "ipython3",
   "version": "3.8.6"
  }
 },
 "nbformat": 4,
 "nbformat_minor": 4
}
