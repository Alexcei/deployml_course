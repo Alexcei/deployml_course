{
 "cells": [
  {
   "cell_type": "markdown",
   "metadata": {},
   "source": [
    "## ???"
   ]
  },
  {
   "cell_type": "code",
   "execution_count": null,
   "metadata": {},
   "outputs": [],
   "source": [
    "def transform(resample_df, station_data, weather_data, trip_data, idx):\n",
    "    df_agg = resample_df\n",
    "    # извлекаем дни\n",
    "    df_agg['Date'] = getDate(df_agg, idx, 'd')\n",
    "    # извлекаем часы\n",
    "    df_agg['Hour'] = getDate(df_agg, idx, 'h')\n",
    "    df_agg.eval('net_rate=num_trips_end-num_trips_start', inplace=True)\n",
    "    df_agg.drop(['num_trips_end', 'num_trips_start'], inplace=True, axis=1)\n",
    "\n",
    "    # соединяем данные\n",
    "    # данные по станциям\n",
    "    df_agg = df_agg.join(station_data.set_index('Station'))\n",
    "    # погода\n",
    "    df_agg.reset_index(inplace=True)\n",
    "    df_agg.set_index(['Date', 'Zip'], inplace=True)\n",
    "\n",
    "    df_agg = df_agg.join(weather_data) \\\n",
    "                    .reset_index() \\\n",
    "                    .set_index(['Station', 'Datetime'])\n",
    "\n",
    "    # определяем тип покупателя (!)\n",
    "    #df_agg = get_dummies(df_agg, 'Subscriber_Type', dropOrigin=True)\n",
    "    # Определяем время дня\n",
    "    df_agg['Is_night'] = df_agg['Hour'].apply(lambda h: 1 if h < 5 or h > 20 else 0)\n",
    "    # Определяем день недели\n",
    "    df_agg['Day_of_week'] = df_agg['Date'].apply(lambda dt: dt.weekday())\n",
    "    # Рабочий или выходной\n",
    "    df_agg['Is_weekday'] = df_agg['Day_of_week'].apply(lambda s: 0 if s in [5, 6] else 1)\n",
    "\n",
    "    # Сизоны: зима (0), осень (1), лето (2), осень (3)\n",
    "    df_agg['Season'] = df_agg['Date'].apply(lambda dt: (dt.month % 12 + 3) // 3 - 1)\n",
    "\n",
    "    df = get_dummies(trip_data, 'Subscriber_Type', dropOrigin=True)\n",
    "    end = get_stop(df, idx, 'H', 'End_Station', 'End_Date', drop=True, dropId=\"Trip_ID\")\n",
    "    start = get_stop(df, idx, 'H', 'Start_Station', 'Start_Date', drop=True, dropId=\"Trip_ID\")\n",
    "\n",
    "    # общий набор\n",
    "    df_agg = df_agg.join(end).join(start, lsuffix='_end', rsuffix='_start')\n",
    "    #self.df_agg = self.df_agg.sample(frac=0.1)\n",
    "\n",
    "    # Net rate за преведующий час\n",
    "    df_agg['net_rate_previous_hour'] = df_agg.groupby(['Station', 'Date'])['net_rate'] \\\n",
    "                                                .shift(1).fillna(0)\n",
    "    df_agg = cyclic_feature(df_agg)\n",
    "\n",
    "    # OHE Events\n",
    "    df_agg = get_dummies(df_agg,'Events')\n",
    "\n",
    "    # OHE Station IDs\n",
    "    df_agg.reset_index(inplace=True)\n",
    "    df_agg = get_dummies(df_agg, 'Station', prefix='Station')\n",
    "    df_agg = get_dummies(df_agg, 'Zip', prefix='Zip')\n",
    "\n",
    "    df_agg.drop(['Hour', 'Day_of_week', 'Season', 'Datetime', 'Date'],\n",
    "                       inplace=True, axis=1)\n",
    "\n",
    "    return df_agg\n"
   ]
  },
  {
   "cell_type": "code",
   "execution_count": 1,
   "metadata": {},
   "outputs": [],
   "source": [
    "def transform(resample_df, station_data, weather_data, trip_data, idx):\n",
    "    # этот шаг зачем? (не хотелось переписывать переменную)\n",
    "    # в памяти 2 объекта ссылаются на одинаковые ячейки в памяти\n",
    "    #df_agg = resample_df\n",
    "    \n",
    "    # 2 похожих действия\n",
    "    df_agg['Date'] = getDate(df_agg, idx, 'd')\n",
    "    df_agg['Hour'] = getDate(df_agg, idx, 'h')\n",
    "    \n",
    "    # не всем знакомый методо\n",
    "    # https://pandas.pydata.org/pandas-docs/stable/reference/api/pandas.eval.html\n",
    "    df_agg.eval('net_rate=num_trips_end-num_trips_start', inplace=True)\n",
    "    \n",
    "    # drop в середине, встретится ли в конце?\n",
    "    df_agg.drop(['num_trips_end', 'num_trips_start'], inplace=True, axis=1)\n",
    "    \n",
    "    # можно ли представить в виде pandas pipeline:\n",
    "    # df.method().method().method()  ! если все возвращают объекты DF\n",
    "    df_agg = (\n",
    "        df_agg.join(station_data.set_index('Station'))\n",
    "               .reset_index()\n",
    "               .set_index(['Date', 'Zip'])\n",
    "               .join(weather_data)\n",
    "                .reset_index()\n",
    "                .set_index(['Station', 'Datetime'])\n",
    "        )\n",
    "    \n",
    "    # почти одинаковое действие, но с разными значениям (4 разные функции)\n",
    "    df_agg['Is_night'] = df_agg['Hour'].apply(lambda h: 1 if h < 5 or h > 20 else 0)\n",
    "    df_agg['Day_of_week'] = df_agg['Date'].apply(lambda dt: dt.weekday())\n",
    "    df_agg['Is_weekday'] = df_agg['Day_of_week'].apply(lambda s: 0 if s in [5, 6] else 1)\n",
    "    df_agg['Season'] = df_agg['Date'].apply(lambda dt: (dt.month % 12 + 3) // 3 - 1)\n",
    "    \n",
    "    # много раз повторяющаяся функция \n",
    "    df = get_dummies(trip_data, 'Subscriber_Type', dropOrigin=True)\n",
    "    end = get_stop(df, idx, 'H', 'End_Station', 'End_Date', drop=True, dropId=\"Trip_ID\")\n",
    "    start = get_stop(df, idx, 'H', 'Start_Station', 'Start_Date', drop=True, dropId=\"Trip_ID\")\n",
    "    \n",
    "    #\n",
    "    df_agg = df_agg.join(end).join(start, lsuffix='_end', rsuffix='_start')\n",
    "    df_agg['net_rate_previous_hour'] = df_agg.groupby(['Station', 'Date'])['net_rate'] \\\n",
    "                                                .shift(1).fillna(0)\n",
    "    \n",
    "    df_agg = cyclic_feature(df_agg)\n",
    "    df_agg = get_dummies(df_agg,'Events')\n",
    "    \n",
    "    # почему сейчас?\n",
    "    df_agg.reset_index(inplace=True)\n",
    "    \n",
    "    # все dummies сразу?\n",
    "    df_agg = get_dummies(df_agg, 'Station', prefix='Station')\n",
    "    df_agg = get_dummies(df_agg, 'Zip', prefix='Zip')\n",
    "\n",
    "    # все дроп в конце или отдельной функцией \n",
    "    df_agg.drop(['Hour', 'Day_of_week', 'Season', 'Datetime', 'Date'],\n",
    "                       inplace=True, axis=1)\n",
    "\n",
    "    return df_agg\n"
   ]
  },
  {
   "cell_type": "code",
   "execution_count": null,
   "metadata": {},
   "outputs": [],
   "source": [
    "# внутри функции, есть функции, с них и начинаем тестирование\n",
    "# transform - сложная функции из последовательностей -> упростить\n",
    "# -> построить граф выполнения и посмотреть (найти) на возможности упрощения\n",
    "getDate()\n",
    "\n",
    "lambda x: x\n",
    "\n",
    "get_dummies()\n",
    "\n",
    "get_stop()\n",
    "\n",
    "cyclic_feature()\n"
   ]
  },
  {
   "cell_type": "markdown",
   "metadata": {},
   "source": [
    "![](graph.jpg)"
   ]
  },
  {
   "cell_type": "code",
   "execution_count": 2,
   "metadata": {},
   "outputs": [],
   "source": [
    "# для обучения внутри команды + для менеджеров\n",
    "# https://checkio.org/"
   ]
  },
  {
   "cell_type": "markdown",
   "metadata": {},
   "source": [
    "## Ссылка на один объект"
   ]
  },
  {
   "cell_type": "code",
   "execution_count": 5,
   "metadata": {},
   "outputs": [],
   "source": [
    "def best_func(some_names, outputs = []):\n",
    "    splt = some_names.split(',')\n",
    "    [outputs.append(i.strip()) for i in splt]\n",
    "    return outputs"
   ]
  },
  {
   "cell_type": "code",
   "execution_count": 6,
   "metadata": {},
   "outputs": [
    {
     "data": {
      "text/plain": [
       "['Roma', 'Maria']"
      ]
     },
     "execution_count": 6,
     "metadata": {},
     "output_type": "execute_result"
    }
   ],
   "source": [
    "best_func('Roma, Maria', [])"
   ]
  },
  {
   "cell_type": "code",
   "execution_count": 7,
   "metadata": {},
   "outputs": [
    {
     "data": {
      "text/plain": [
       "['Roma', 'Maxim', 'Dmitriy']"
      ]
     },
     "execution_count": 7,
     "metadata": {},
     "output_type": "execute_result"
    }
   ],
   "source": [
    "best_func('Roma, Maxim, Dmitriy')"
   ]
  },
  {
   "cell_type": "code",
   "execution_count": 8,
   "metadata": {},
   "outputs": [
    {
     "data": {
      "text/plain": [
       "['NoneName']"
      ]
     },
     "execution_count": 8,
     "metadata": {},
     "output_type": "execute_result"
    }
   ],
   "source": [
    "best_func('NoneName', [])"
   ]
  },
  {
   "cell_type": "code",
   "execution_count": 9,
   "metadata": {},
   "outputs": [
    {
     "data": {
      "text/plain": [
       "['Roma', 'Maxim', 'Dmitriy', 'Anton', 'Liza']"
      ]
     },
     "execution_count": 9,
     "metadata": {},
     "output_type": "execute_result"
    }
   ],
   "source": [
    "best_func('Anton, Liza')"
   ]
  },
  {
   "cell_type": "code",
   "execution_count": null,
   "metadata": {},
   "outputs": [],
   "source": []
  }
 ],
 "metadata": {
  "kernelspec": {
   "display_name": "Python3",
   "language": "python",
   "name": "python3"
  },
  "language_info": {
   "codemirror_mode": {
    "name": "ipython",
    "version": 3
   },
   "file_extension": ".py",
   "mimetype": "text/x-python",
   "name": "python",
   "nbconvert_exporter": "python",
   "pygments_lexer": "ipython3",
   "version": "3.8.6"
  }
 },
 "nbformat": 4,
 "nbformat_minor": 4
}
