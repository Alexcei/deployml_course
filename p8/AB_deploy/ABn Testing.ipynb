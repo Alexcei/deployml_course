{
 "cells": [
  {
   "cell_type": "code",
   "execution_count": 136,
   "metadata": {},
   "outputs": [],
   "source": [
    "import pandas as pd\n",
    "%matplotlib inline\n",
    "\n",
    "import math\n",
    "import scipy.stats as stats\n",
    "\n",
    "import numpy as np\n",
    "import matplotlib.pyplot as plt\n",
    "\n",
    "from statsmodels.stats.proportion import proportions_ztest\n",
    "from statsmodels.stats.proportion import proportions_chisquare\n",
    "\n",
    "import seaborn as sns\n",
    "sns.set(color_codes=True)\n",
    "\n",
    "from datetime import timedelta\n",
    "import datetime\n",
    "import time\n",
    "import os"
   ]
  },
  {
   "cell_type": "code",
   "execution_count": 137,
   "metadata": {},
   "outputs": [],
   "source": [
    "# Цвета для виз\n",
    "color_hex_list = ['#88CCEE', '#CC6677', '#DDCC77', '#117733', '#332288', '#E58606',  '#999933', '#882255', '#661100', \n",
    " '#5D69B1', '#52BCA3', '#99C945', '#CC61B0', '#24796C', '#DAA51B', '#2F8AC4', '#764E9F', '#ED645A']"
   ]
  },
  {
   "cell_type": "markdown",
   "metadata": {},
   "source": [
    "---"
   ]
  },
  {
   "cell_type": "markdown",
   "metadata": {},
   "source": [
    "# НАСТРОЙКИ ДО ТЕСТА\n",
    "\n",
    "## Размер группы\n",
    "\n",
    "Если вы не хотите считать сами, воспользуйтесь готовы решением на сайте: [ссылка](https://www.evanmiller.org/ab-testing/sample-size.html)"
   ]
  },
  {
   "cell_type": "code",
   "execution_count": 138,
   "metadata": {},
   "outputs": [],
   "source": [
    "# установка базовых переменных\n",
    "baseline_probability = 0.10\n",
    "beta = 0.2\n",
    "alpha = 0.05\n",
    "effectSize = 0.01\n",
    "\n",
    "# определяем one-side или two-side тест\n",
    "one_sided = True "
   ]
  },
  {
   "cell_type": "markdown",
   "metadata": {},
   "source": [
    "#### Рассчитаем стартовые данные "
   ]
  },
  {
   "cell_type": "code",
   "execution_count": 139,
   "metadata": {},
   "outputs": [
    {
     "name": "stdout",
     "output_type": "stream",
     "text": [
      "Baseline Conversion (pr) =  10.0 %\n",
      "Confidence Level =  95.0 %\n",
      "Alpha Z-score (za) =  1.64\n",
      "Power =  80.0 %\n",
      "Beta Z-score (zb) =  0.84\n",
      "Effect Size (E) =  1.0 %\n"
     ]
    }
   ],
   "source": [
    "alpha_Zscore = stats.norm.ppf(1-alpha*(1-0.5*(1-one_sided)))\n",
    "beta_Zscore = stats.norm.ppf(1-beta)\n",
    "\n",
    "print('Baseline Conversion (pr) = ', baseline_probability*100, '%')\n",
    "print('Confidence Level = ', (1-alpha)*100, '%')\n",
    "print('Alpha Z-score (za) = ', round(alpha_Zscore,2))\n",
    "print('Power = ', (1-beta)*100, '%')\n",
    "print('Beta Z-score (zb) = ', round(beta_Zscore,2))\n",
    "print('Effect Size (E) = ', effectSize*100, '%')"
   ]
  },
  {
   "cell_type": "markdown",
   "metadata": {},
   "source": [
    "#### Функция установки \"траффика\", который будет проходить через модель"
   ]
  },
  {
   "cell_type": "code",
   "execution_count": 140,
   "metadata": {},
   "outputs": [
    {
     "name": "stdout",
     "output_type": "stream",
     "text": [
      "Sample Size (per variation)= 11129.0\n"
     ]
    }
   ],
   "source": [
    "def sample_size(E, za, zb, pr):\n",
    "    variance = pr*(1-pr)  # эту часть можно заменить на baseline по модели\n",
    "    z = (za+zb)**2\n",
    "    top = 2*variance*z\n",
    "    bottom = E**2\n",
    "    n = top/bottom\n",
    "    return n\n",
    "\n",
    "n = sample_size(effectSize, alpha_Zscore, beta_Zscore, baseline_probability)\n",
    "print('Sample Size (per variation)=',round(n,0))"
   ]
  },
  {
   "cell_type": "markdown",
   "metadata": {},
   "source": [
    "## Определяем минимальный значимый эффект\n",
    "\n",
    "- расчет на основе alpha / beta / размер группы\n",
    "- для обнаружения минимального эффекта, мы должны заранее определить размер группы (максимальный)"
   ]
  },
  {
   "cell_type": "code",
   "execution_count": 141,
   "metadata": {},
   "outputs": [
    {
     "data": {
      "text/plain": [
       "0.01"
      ]
     },
     "execution_count": 141,
     "metadata": {},
     "output_type": "execute_result"
    }
   ],
   "source": [
    "# функция оценки эффекта\n",
    "def measurable_effect_size(n, za, zb, pr):\n",
    "    variance = pr*(1-pr)  # эту часть можно заменить на baseline по модели\n",
    "    z = (za+zb)**2\n",
    "    top = 2*variance*z\n",
    "    bottom = n\n",
    "    E = math.sqrt(top/n)\n",
    "    return E\n",
    "\n",
    "# минимальный эффект\n",
    "measurable_effect_size(n, alpha_Zscore, beta_Zscore, baseline_probability)"
   ]
  },
  {
   "cell_type": "markdown",
   "metadata": {},
   "source": [
    "## Alpha Cutoff \n",
    "\n",
    "Сделаем обработку параметра Alpha на количество ожидаемых значений (для классификации), важно для ошибки первого рода. \n",
    "\n",
    "Мы считаем - Familywise Error Rate (Alpha Inflation)"
   ]
  },
  {
   "cell_type": "code",
   "execution_count": 142,
   "metadata": {},
   "outputs": [],
   "source": [
    "# количество сегментов для сравнения (кол-во значений в таргите)\n",
    "segments = 2"
   ]
  },
  {
   "cell_type": "code",
   "execution_count": 144,
   "metadata": {},
   "outputs": [
    {
     "data": {
      "text/plain": [
       "0.09750000000000003"
      ]
     },
     "execution_count": 144,
     "metadata": {},
     "output_type": "execute_result"
    }
   ],
   "source": [
    "# вероятность ошибки в тести, определеяем для действия - alpha cutoff\n",
    "\n",
    "1 - (1-alpha)**segments"
   ]
  },
  {
   "cell_type": "code",
   "execution_count": 145,
   "metadata": {},
   "outputs": [
    {
     "name": "stdout",
     "output_type": "stream",
     "text": [
      "Допустимые коррекции:\n",
      "Тестирование гипотез на уровне α∗ = (α/segments) = (0.05/2) = 0.025 (где 2 - кол-во сегментов в группе).\n",
      "Гарантированная ошибка 1 типа не будет привышать α = 0.098\n",
      "However, this adjustment may be too conservative.\n"
     ]
    }
   ],
   "source": [
    "print(\"Допустимые коррекции:\")\n",
    "print(\"Тестирование гипотез на уровне α∗ = (α/segments) = ({a}/{seg}) = {aseg} (где {seg} - кол-во сегментов в группе).\".format(a=alpha, seg=segments, aseg = alpha/segments))\n",
    "print(\"Гарантированная ошибка 1 типа не будет привышать α = {}\".format(round((1 - (1-alpha)**segments),3)))\n",
    "print(\"However, this adjustment may be too conservative.\")"
   ]
  },
  {
   "cell_type": "markdown",
   "metadata": {},
   "source": [
    "---"
   ]
  },
  {
   "cell_type": "markdown",
   "metadata": {},
   "source": [
    "## Данные"
   ]
  },
  {
   "cell_type": "markdown",
   "metadata": {},
   "source": [
    "Для теста надо иметь в данных следующее:\n",
    "\n",
    "- id пользователя \n",
    "- дата\n",
    "- тип группы \n",
    "- параметры для сравнения"
   ]
  },
  {
   "cell_type": "code",
   "execution_count": 146,
   "metadata": {},
   "outputs": [
    {
     "data": {
      "text/html": [
       "<div>\n",
       "<style scoped>\n",
       "    .dataframe tbody tr th:only-of-type {\n",
       "        vertical-align: middle;\n",
       "    }\n",
       "\n",
       "    .dataframe tbody tr th {\n",
       "        vertical-align: top;\n",
       "    }\n",
       "\n",
       "    .dataframe thead th {\n",
       "        text-align: right;\n",
       "    }\n",
       "</style>\n",
       "<table border=\"1\" class=\"dataframe\">\n",
       "  <thead>\n",
       "    <tr style=\"text-align: right;\">\n",
       "      <th></th>\n",
       "      <th>user_id</th>\n",
       "      <th>date_joined</th>\n",
       "      <th>date_visit</th>\n",
       "      <th>version</th>\n",
       "      <th>type</th>\n",
       "      <th>category</th>\n",
       "      <th>visits</th>\n",
       "      <th>clicked</th>\n",
       "      <th>clicks</th>\n",
       "      <th>liked</th>\n",
       "      <th>likes</th>\n",
       "    </tr>\n",
       "  </thead>\n",
       "  <tbody>\n",
       "    <tr>\n",
       "      <th>312</th>\n",
       "      <td>31098584</td>\n",
       "      <td>2018-04-27</td>\n",
       "      <td>2018-04-23</td>\n",
       "      <td>A1</td>\n",
       "      <td>1</td>\n",
       "      <td>NaN</td>\n",
       "      <td>1</td>\n",
       "      <td>1</td>\n",
       "      <td>1</td>\n",
       "      <td>0</td>\n",
       "      <td>0</td>\n",
       "    </tr>\n",
       "    <tr>\n",
       "      <th>310</th>\n",
       "      <td>31098581</td>\n",
       "      <td>2018-04-27</td>\n",
       "      <td>2018-04-23</td>\n",
       "      <td>A2</td>\n",
       "      <td>0</td>\n",
       "      <td>NaN</td>\n",
       "      <td>1</td>\n",
       "      <td>1</td>\n",
       "      <td>2</td>\n",
       "      <td>1</td>\n",
       "      <td>5</td>\n",
       "    </tr>\n",
       "    <tr>\n",
       "      <th>309</th>\n",
       "      <td>31098580</td>\n",
       "      <td>2018-04-27</td>\n",
       "      <td>2018-04-23</td>\n",
       "      <td>A1</td>\n",
       "      <td>0</td>\n",
       "      <td>NaN</td>\n",
       "      <td>1</td>\n",
       "      <td>1</td>\n",
       "      <td>1</td>\n",
       "      <td>0</td>\n",
       "      <td>0</td>\n",
       "    </tr>\n",
       "    <tr>\n",
       "      <th>307</th>\n",
       "      <td>31098577</td>\n",
       "      <td>2018-04-27</td>\n",
       "      <td>2018-04-23</td>\n",
       "      <td>A2</td>\n",
       "      <td>1</td>\n",
       "      <td>NaN</td>\n",
       "      <td>1</td>\n",
       "      <td>1</td>\n",
       "      <td>4</td>\n",
       "      <td>0</td>\n",
       "      <td>0</td>\n",
       "    </tr>\n",
       "    <tr>\n",
       "      <th>314</th>\n",
       "      <td>31098589</td>\n",
       "      <td>2018-04-27</td>\n",
       "      <td>2018-04-23</td>\n",
       "      <td>A2</td>\n",
       "      <td>1</td>\n",
       "      <td>M</td>\n",
       "      <td>1</td>\n",
       "      <td>1</td>\n",
       "      <td>5</td>\n",
       "      <td>0</td>\n",
       "      <td>0</td>\n",
       "    </tr>\n",
       "  </tbody>\n",
       "</table>\n",
       "</div>"
      ],
      "text/plain": [
       "      user_id date_joined date_visit version  type category  visits  clicked  \\\n",
       "312  31098584  2018-04-27 2018-04-23      A1     1      NaN       1        1   \n",
       "310  31098581  2018-04-27 2018-04-23      A2     0      NaN       1        1   \n",
       "309  31098580  2018-04-27 2018-04-23      A1     0      NaN       1        1   \n",
       "307  31098577  2018-04-27 2018-04-23      A2     1      NaN       1        1   \n",
       "314  31098589  2018-04-27 2018-04-23      A2     1        M       1        1   \n",
       "\n",
       "     clicks  liked  likes  \n",
       "312       1      0      0  \n",
       "310       2      1      5  \n",
       "309       1      0      0  \n",
       "307       4      0      0  \n",
       "314       5      0      0  "
      ]
     },
     "execution_count": 146,
     "metadata": {},
     "output_type": "execute_result"
    }
   ],
   "source": [
    "file_name = 'Data/sd.csv'\n",
    "date_sort = 'date_visit'\n",
    "\n",
    "# загрузим\n",
    "data = pd.read_csv(file_name,\n",
    "                  converters= {date_sort: pd.to_datetime} )\n",
    "df = data.copy()\n",
    "df = df.sort_values(date_sort, ascending = True)\n",
    "df = df[df['version'].isin(['A1', 'A2'])]\n",
    "\n",
    "# Определение конверсий\n",
    "traffic_label = 'clicked'\n",
    "conversion_label = 'liked'\n",
    "\n",
    "# Группировка\n",
    "user_label = 'user_id'\n",
    "date_label = 'date_visit'\n",
    "segment_label = 'version'\n",
    "\n",
    "segment_list = list(df[segment_label].unique())\n",
    "\n",
    "df.head()"
   ]
  },
  {
   "cell_type": "markdown",
   "metadata": {},
   "source": [
    "#### Обзор сегментов"
   ]
  },
  {
   "cell_type": "code",
   "execution_count": 147,
   "metadata": {},
   "outputs": [
    {
     "name": "stdout",
     "output_type": "stream",
     "text": [
      "Different segments:  ['A1', 'A2']\n",
      "Number of segments:  2\n"
     ]
    }
   ],
   "source": [
    "variations = len(segment_list)\n",
    "print('Different segments: ',segment_list)\n",
    "print('Number of segments: ', variations)"
   ]
  },
  {
   "cell_type": "markdown",
   "metadata": {},
   "source": [
    "### Траффик по дням"
   ]
  },
  {
   "cell_type": "code",
   "execution_count": 148,
   "metadata": {},
   "outputs": [
    {
     "data": {
      "image/png": "[encoded data removed]",
      "text/plain": [
       "<Figure size 936x432 with 1 Axes>"
      ]
     },
     "metadata": {},
     "output_type": "display_data"
    }
   ],
   "source": [
    "# Агрегат по дню\n",
    "daily_users = pd.DataFrame(d2.groupby(date_label)[user_label].nunique()).reset_index()\n",
    "daily_traffic = pd.DataFrame(d2.groupby(date_label)[traffic_label].sum()).reset_index()\n",
    "daily_conversions = pd.DataFrame(d2.groupby(date_label)[conversion_label].sum()).reset_index()\n",
    "\n",
    "\n",
    "# Визуализируем\n",
    "plt.subplots(figsize=(13, 6))\n",
    "plt.plot(pd.to_datetime(daily_users[date_label]), daily_users[user_label], label = 'users')\n",
    "plt.plot(pd.to_datetime(daily_traffic[date_label]), daily_traffic[traffic_label], label = ('traffic: ' + traffic_label))\n",
    "plt.plot(pd.to_datetime(daily_conversions[date_label]), daily_conversions[conversion_label], label = ('conversion: ' + conversion_label))\n",
    "plt.xlabel('Date', fontsize=15)\n",
    "plt.xticks(fontsize=15, rotation=30)\n",
    "plt.yticks(fontsize=15)\n",
    "plt.title('Daily: Users, Traffic & Conversions', fontsize=18)\n",
    "plt.legend(fontsize=15)\n",
    "plt.show()"
   ]
  },
  {
   "cell_type": "code",
   "execution_count": 149,
   "metadata": {},
   "outputs": [
    {
     "data": {
      "text/plain": [
       "40.43"
      ]
     },
     "execution_count": 149,
     "metadata": {},
     "output_type": "execute_result"
    }
   ],
   "source": [
    "# Conversion Rate\n",
    "round((daily_conversions[conversion_label]/daily_traffic[traffic_label]).mean()*100,2)"
   ]
  },
  {
   "cell_type": "code",
   "execution_count": 150,
   "metadata": {},
   "outputs": [
    {
     "data": {
      "text/plain": [
       "0.96"
      ]
     },
     "execution_count": 150,
     "metadata": {},
     "output_type": "execute_result"
    }
   ],
   "source": [
    "# Average Traffic / User\n",
    "round((daily_traffic[traffic_label]/daily_users[user_label]).mean(),2)"
   ]
  },
  {
   "cell_type": "code",
   "execution_count": 151,
   "metadata": {},
   "outputs": [
    {
     "data": {
      "text/plain": [
       "0.39"
      ]
     },
     "execution_count": 151,
     "metadata": {},
     "output_type": "execute_result"
    }
   ],
   "source": [
    "# Average Conversions / User\n",
    "round((daily_conversions[conversion_label]/daily_users[user_label]).mean(),2)"
   ]
  },
  {
   "cell_type": "markdown",
   "metadata": {},
   "source": [
    "### Таблица сегментов"
   ]
  },
  {
   "cell_type": "code",
   "execution_count": 152,
   "metadata": {},
   "outputs": [
    {
     "data": {
      "text/html": [
       "<div>\n",
       "<style scoped>\n",
       "    .dataframe tbody tr th:only-of-type {\n",
       "        vertical-align: middle;\n",
       "    }\n",
       "\n",
       "    .dataframe tbody tr th {\n",
       "        vertical-align: top;\n",
       "    }\n",
       "\n",
       "    .dataframe thead th {\n",
       "        text-align: right;\n",
       "    }\n",
       "</style>\n",
       "<table border=\"1\" class=\"dataframe\">\n",
       "  <thead>\n",
       "    <tr style=\"text-align: right;\">\n",
       "      <th></th>\n",
       "      <th>converted</th>\n",
       "      <th>traffic</th>\n",
       "    </tr>\n",
       "  </thead>\n",
       "  <tbody>\n",
       "    <tr>\n",
       "      <th>A1</th>\n",
       "      <td>42</td>\n",
       "      <td>86</td>\n",
       "    </tr>\n",
       "    <tr>\n",
       "      <th>A2</th>\n",
       "      <td>37</td>\n",
       "      <td>88</td>\n",
       "    </tr>\n",
       "  </tbody>\n",
       "</table>\n",
       "</div>"
      ],
      "text/plain": [
       "    converted  traffic\n",
       "A1         42       86\n",
       "A2         37       88"
      ]
     },
     "execution_count": 152,
     "metadata": {},
     "output_type": "execute_result"
    }
   ],
   "source": [
    "# выделение колонок для агрегата'traffic' / 'conversion'\n",
    "aggregation_column = [traffic_label, conversion_label]\n",
    "traffic = []\n",
    "conversions = [] \n",
    "\n",
    "# расчет агрегатов\n",
    "for i in range(variations):\n",
    "    v, c = df[df[segment_label] == segment_list[i] ][aggregation_column[:2]].sum()\n",
    "\n",
    "    traffic.append(v)\n",
    "    conversions.append(c)\n",
    "    \n",
    "    \n",
    "# новый DF   \n",
    "dfp_simple = pd.DataFrame({\n",
    "    \"converted\": conversions,\n",
    "    \"traffic\": traffic\n",
    "}, index = segment_list)\n",
    "\n",
    "dfp_simple\n",
    "\n",
    "#dfp = dfp_simple.copy().sort_index()"
   ]
  },
  {
   "cell_type": "code",
   "execution_count": 153,
   "metadata": {
    "scrolled": true
   },
   "outputs": [
    {
     "data": {
      "text/html": [
       "<div>\n",
       "<style scoped>\n",
       "    .dataframe tbody tr th:only-of-type {\n",
       "        vertical-align: middle;\n",
       "    }\n",
       "\n",
       "    .dataframe tbody tr th {\n",
       "        vertical-align: top;\n",
       "    }\n",
       "\n",
       "    .dataframe thead th {\n",
       "        text-align: right;\n",
       "    }\n",
       "</style>\n",
       "<table border=\"1\" class=\"dataframe\">\n",
       "  <thead>\n",
       "    <tr style=\"text-align: right;\">\n",
       "      <th></th>\n",
       "      <th>converted</th>\n",
       "      <th>traffic</th>\n",
       "      <th>not_converted</th>\n",
       "      <th>converted_proportion</th>\n",
       "      <th>standard_error</th>\n",
       "      <th>population_percentage</th>\n",
       "    </tr>\n",
       "  </thead>\n",
       "  <tbody>\n",
       "    <tr>\n",
       "      <th>A1</th>\n",
       "      <td>42</td>\n",
       "      <td>86</td>\n",
       "      <td>44</td>\n",
       "      <td>0.488372</td>\n",
       "      <td>0.053902</td>\n",
       "      <td>0.494253</td>\n",
       "    </tr>\n",
       "    <tr>\n",
       "      <th>A2</th>\n",
       "      <td>37</td>\n",
       "      <td>88</td>\n",
       "      <td>51</td>\n",
       "      <td>0.420455</td>\n",
       "      <td>0.052621</td>\n",
       "      <td>0.505747</td>\n",
       "    </tr>\n",
       "    <tr>\n",
       "      <th>Total</th>\n",
       "      <td>79</td>\n",
       "      <td>174</td>\n",
       "      <td>95</td>\n",
       "      <td>0.454023</td>\n",
       "      <td>0.037744</td>\n",
       "      <td>1.000000</td>\n",
       "    </tr>\n",
       "  </tbody>\n",
       "</table>\n",
       "</div>"
      ],
      "text/plain": [
       "       converted  traffic  not_converted  converted_proportion  \\\n",
       "A1            42       86             44              0.488372   \n",
       "A2            37       88             51              0.420455   \n",
       "Total         79      174             95              0.454023   \n",
       "\n",
       "       standard_error  population_percentage  \n",
       "A1           0.053902               0.494253  \n",
       "A2           0.052621               0.505747  \n",
       "Total        0.037744               1.000000  "
      ]
     },
     "execution_count": 153,
     "metadata": {},
     "output_type": "execute_result"
    }
   ],
   "source": [
    "dfp = dfp_simple.copy().sort_index()\n",
    "\n",
    "# Сумма по всем колонкам\n",
    "dfp.loc['Total'] = dfp.sum()\n",
    "\n",
    "# определение не сконвертируемых\n",
    "dfp['not_converted'] = dfp['traffic'] - dfp['converted']\n",
    "\n",
    "# отношение конвертируемых к траффику\n",
    "proportion = dfp.converted/dfp.traffic\n",
    "dfp['converted_proportion'] = proportion\n",
    "\n",
    "# STD\n",
    "dfp['standard_error'] = ((proportion * (1-proportion))/dfp.traffic)**(.5)\n",
    "\n",
    "# % траффика\n",
    "n = dfp.loc['Total']['traffic']\n",
    "dfp['population_percentage'] = dfp['traffic']/n\n",
    "\n",
    "dfp"
   ]
  },
  {
   "cell_type": "markdown",
   "metadata": {},
   "source": [
    "### Plot"
   ]
  },
  {
   "cell_type": "code",
   "execution_count": 154,
   "metadata": {},
   "outputs": [
    {
     "data": {
      "image/png": "[encoded data removed]",
      "text/plain": [
       "<Figure size 936x432 with 1 Axes>"
      ]
     },
     "metadata": {},
     "output_type": "display_data"
    }
   ],
   "source": [
    "# визуализируем BarPlot\n",
    "labels = dfp.index[:-1].tolist()\n",
    "label_index = np.arange(len(labels))\n",
    "values = (round(dfp['converted_proportion'][:-1]*100,2)).tolist()\n",
    "half_ci = (round(dfp['standard_error'][:-1]*1.96*100,2)).tolist()\n",
    "plt.subplots(figsize=(13, 6))\n",
    "plt.bar(label_index, values, yerr=half_ci, alpha=0.75,\n",
    "       color= color_hex_list[0:len(labels)],\n",
    "       error_kw=dict(ecolor='black', lw=2, capsize=5, capthick=2))\n",
    "plt.xlabel('Segment', fontsize=15)\n",
    "plt.ylabel('% Conversion', fontsize=15)\n",
    "plt.xticks(label_index, labels, fontsize=13, rotation=30)\n",
    "plt.yticks(fontsize=15)\n",
    "plt.title('Conversion Rate / Segment', fontsize=18)\n",
    "plt.show()"
   ]
  },
  {
   "cell_type": "markdown",
   "metadata": {},
   "source": [
    "# ТЕСТИРОВАНИЕ МОДЕЛИ ЛОКАЛЬНО"
   ]
  },
  {
   "cell_type": "markdown",
   "metadata": {},
   "source": [
    "## 2 Sample\n",
    "\n",
    "*Тип теста: z-test*\n",
    "\n",
    "\n",
    "- H0: Нет разницы между сегментами и уровнем конверсии\n",
    "- H1: Есть разница между сегментами и уровнем конверсии\n",
    "\n",
    "!-> A1 - основная, старая модель, все остальные это новые \"челленджеры\""
   ]
  },
  {
   "cell_type": "code",
   "execution_count": 155,
   "metadata": {},
   "outputs": [],
   "source": [
    "variation1 = 'A1'\n",
    "variation2 = 'A2'"
   ]
  },
  {
   "cell_type": "markdown",
   "metadata": {},
   "source": [
    "### Расчет параметров по каждому сегменту"
   ]
  },
  {
   "cell_type": "code",
   "execution_count": 156,
   "metadata": {},
   "outputs": [
    {
     "name": "stdout",
     "output_type": "stream",
     "text": [
      "A1 Converted: 42.0\n",
      "A1 Traffic: 86.0\n",
      "A2 Converted: 37.0\n",
      "A2 Traffic: 88.0\n"
     ]
    }
   ],
   "source": [
    "x1 = dfp.loc[variation1]['converted']\n",
    "n1 = dfp.loc[variation1]['traffic']\n",
    "x2 = dfp.loc[variation2]['converted']\n",
    "n2 = dfp.loc[variation2]['traffic']\n",
    "\n",
    "print(variation1, 'Converted:', x1)\n",
    "print(variation1, 'Traffic:', n1)\n",
    "print(variation2, 'Converted:', x2)\n",
    "print(variation2, 'Traffic:', n2)"
   ]
  },
  {
   "cell_type": "markdown",
   "metadata": {},
   "source": [
    "### Сравнение результатов"
   ]
  },
  {
   "cell_type": "code",
   "execution_count": 157,
   "metadata": {},
   "outputs": [
    {
     "name": "stdout",
     "output_type": "stream",
     "text": [
      "Кол-во ( A1 ): 48.84%\n",
      "Кол-во ( A2 ): 42.05%\n",
      "Среднее кол-во по всем группам: 45.40%\n",
      "% разница между группами: -6.79%\n",
      "% относительная разница между группами: -13.91%\n",
      "\n",
      "Variance: 0.5699%\n",
      "Standard Error: 7.55%\n",
      "\n",
      "z-stat: 0.8996463724803273\n",
      "p-value: 0.184154235386902\n"
     ]
    }
   ],
   "source": [
    "p1 = x1/n1\n",
    "p2 = x2/n2\n",
    "p = (x1+x2)/(n1+n2)\n",
    "print('Кол-во (', variation1 ,'): {0:.2f}%'.format(100*p1))\n",
    "print('Кол-во (', variation2 ,'): {0:.2f}%'.format(100*p2))\n",
    "print('Среднее кол-во по всем группам: {0:.2f}%'.format(100*p))\n",
    "print('% разница между группами: {0:.2f}%'.format(100*(p2-p1)))\n",
    "print('% относительная разница между группами: {0:.2f}%'.format(100*(p2-p1)/p1))\n",
    "\n",
    "\n",
    "var = p*(1-p)*(1/n1+1/n2)\n",
    "se = math.sqrt(var)\n",
    "print('\\nVariance: {0:.4f}%'.format(100*var))\n",
    "print('Standard Error: {0:.2f}%'.format(100*se))\n",
    "\n",
    "z = (p1-p2)/se\n",
    "pvalue = 1-stats.norm.cdf(abs(z))\n",
    "pvalue *= 2-one_sided\n",
    "print('\\nz-stat: {z}'.format(z=z))\n",
    "print('p-value: {p}'.format(p=pvalue))"
   ]
  },
  {
   "cell_type": "markdown",
   "metadata": {},
   "source": [
    "### Фиксирование разниц"
   ]
  },
  {
   "cell_type": "code",
   "execution_count": 158,
   "metadata": {},
   "outputs": [
    {
     "name": "stdout",
     "output_type": "stream",
     "text": [
      "Для текущего размера группы 86.0 и с baseline 0.49,\n",
      "мы можем получить разницу в 18.95%.\n",
      "\n",
      "\n",
      "Разница 6.79%, которая требуется для минимальной группы 241.0\n",
      "\n",
      "\n",
      "Alpha - 1.64\n",
      "Beta - 0.84\n"
     ]
    }
   ],
   "source": [
    "m_proportion = abs(min((1-p1),(1-p1))-1)\n",
    "min_detectable_effect_size = measurable_effect_size(min([n1, n2]), alpha_Zscore, beta_Zscore, m_proportion)\n",
    "print(\"Для текущего размера группы {n} и с baseline {m:.2f},\\nмы можем получить разницу в {e:.2f}%.\"\n",
    "      .format(n = min([n1, n2]), m = m_proportion, e=min_detectable_effect_size*100))\n",
    "print('\\n')\n",
    "\n",
    "\n",
    "n1 = sample_size(p2-p1, alpha_Zscore, beta_Zscore, baseline_probability)\n",
    "print(\"Разница {d:.2f}%, которая требуется для минимальной группы {n_needed}\"\n",
    "      .format(d=abs(100*(p2-p1)), n_needed = round(n1,0)))\n",
    "print('\\n')\n",
    "\n",
    "print(\"Alpha - {a:.2f}\\nBeta - {b:.2f}\".format(a = alpha_Zscore, b = beta_Zscore))"
   ]
  },
  {
   "cell_type": "markdown",
   "metadata": {},
   "source": [
    "**Нужно ли больше данных?**"
   ]
  },
  {
   "cell_type": "code",
   "execution_count": 159,
   "metadata": {},
   "outputs": [
    {
     "name": "stdout",
     "output_type": "stream",
     "text": [
      "Да, мы должны получить больше данных для определения значимости изменений\n"
     ]
    }
   ],
   "source": [
    "abs(p2-p1) >= min_detectable_effect_size\n",
    "\n",
    "if abs(p2-p1) >= min_detectable_effect_size:\n",
    "    print(\"Нет, данных достаточно для определения значимости\")\n",
    "else:\n",
    "    print(\"Да, мы должны получить больше данных для определения значимости изменений\")"
   ]
  },
  {
   "cell_type": "markdown",
   "metadata": {},
   "source": [
    "####  Интерпритация результатов\n",
    "\n",
    "! -> Только, если больше не нужно больше данных"
   ]
  },
  {
   "cell_type": "code",
   "execution_count": 160,
   "metadata": {},
   "outputs": [
    {
     "name": "stdout",
     "output_type": "stream",
     "text": [
      "p-value 0.18415 меньше, чем alpha, 0.05?\n",
      "\n",
      "Нет, 0-гипотеза не может быть отвергнута\n"
     ]
    }
   ],
   "source": [
    "print('p-value {p} меньше, чем alpha, {alpha}?\\n'.format(p=round(pvalue,5), alpha=alpha))\n",
    "if (pvalue < alpha):\n",
    "    print('p-value меньше, чем alpha, 0-гипотеза отвергается (null-hypothesis = no difference)')\n",
    "else: \n",
    "    print('Нет, 0-гипотеза не может быть отвергнута')"
   ]
  },
  {
   "cell_type": "markdown",
   "metadata": {},
   "source": [
    "### Доверительный интервал - для эффективного размера группы"
   ]
  },
  {
   "cell_type": "code",
   "execution_count": 161,
   "metadata": {},
   "outputs": [
    {
     "name": "stdout",
     "output_type": "stream",
     "text": [
      " 95% Confidence Interval = ( -19.21% , 5.63% )\n"
     ]
    }
   ],
   "source": [
    "# z-statistics\n",
    "z_critical = stats.norm.ppf(1-alpha*(1-0.5*(1-one_sided)))\n",
    "\n",
    "# верхний и нижний уровень значимости\n",
    "ci_low = (p2-p1) - z_critical*se\n",
    "ci_upp = (p2-p1) + z_critical*se\n",
    "\n",
    "print(' 95% Confidence Interval = ( {0:.2f}% , {1:.2f}% )'\n",
    "      .format(100*ci_low, 100*ci_upp))"
   ]
  },
  {
   "cell_type": "markdown",
   "metadata": {},
   "source": [
    "### Stats Model Formula"
   ]
  },
  {
   "cell_type": "markdown",
   "metadata": {},
   "source": [
    "2х хвостовой тест"
   ]
  },
  {
   "cell_type": "code",
   "execution_count": 162,
   "metadata": {},
   "outputs": [
    {
     "name": "stdout",
     "output_type": "stream",
     "text": [
      "z-stat: -4.6325\n",
      "p-value: 0.00000181\n"
     ]
    }
   ],
   "source": [
    "counts = np.array([x1, x2])\n",
    "nobs = np.array([n1, n2])\n",
    "\n",
    "stat, pval = proportions_ztest(counts, nobs, alternative = 'smaller')\n",
    "print('z-stat: {0:.4f}'.format(stat))\n",
    "print('p-value: {0:.8f}'.format(pval))"
   ]
  },
  {
   "cell_type": "markdown",
   "metadata": {},
   "source": [
    "#### Extra"
   ]
  },
  {
   "cell_type": "code",
   "execution_count": 163,
   "metadata": {},
   "outputs": [
    {
     "name": "stdout",
     "output_type": "stream",
     "text": [
      "p-value: 0.368308470773804\n"
     ]
    }
   ],
   "source": [
    "# 2х хвостовой тест результат\n",
    "pvalue = 1-stats.norm.cdf(abs(z))\n",
    "pvalue *= 2-False\n",
    "print('p-value: {p}'.format(p=pvalue))"
   ]
  },
  {
   "cell_type": "code",
   "execution_count": 164,
   "metadata": {},
   "outputs": [
    {
     "name": "stdout",
     "output_type": "stream",
     "text": [
      "p-value: 0.184154235386902\n"
     ]
    }
   ],
   "source": [
    "# 1 хвостовой тест\n",
    "pvalue = 1-stats.norm.cdf(abs(z))\n",
    "pvalue *= 2-True\n",
    "print('p-value: {p}'.format(p=pvalue))"
   ]
  },
  {
   "cell_type": "markdown",
   "metadata": {},
   "source": [
    "## 2+ Sample Proportion\n",
    "\n",
    "*Тип теста: Chi Square*"
   ]
  },
  {
   "cell_type": "markdown",
   "metadata": {},
   "source": [
    "**Гипотезы**\n",
    "\n",
    "- H0: Нет разницы между сегментами и уровнем конверсии\n",
    "- H1: Есть разница между сегментами и уровнем конверсии "
   ]
  },
  {
   "cell_type": "markdown",
   "metadata": {},
   "source": [
    "### Main Question: \n",
    "\n",
    "Есть разница между моделями (сегментами)? "
   ]
  },
  {
   "cell_type": "code",
   "execution_count": 165,
   "metadata": {},
   "outputs": [
    {
     "data": {
      "text/html": [
       "<div>\n",
       "<style scoped>\n",
       "    .dataframe tbody tr th:only-of-type {\n",
       "        vertical-align: middle;\n",
       "    }\n",
       "\n",
       "    .dataframe tbody tr th {\n",
       "        vertical-align: top;\n",
       "    }\n",
       "\n",
       "    .dataframe thead th {\n",
       "        text-align: right;\n",
       "    }\n",
       "</style>\n",
       "<table border=\"1\" class=\"dataframe\">\n",
       "  <thead>\n",
       "    <tr style=\"text-align: right;\">\n",
       "      <th></th>\n",
       "      <th>converted</th>\n",
       "      <th>traffic</th>\n",
       "      <th>not_converted</th>\n",
       "      <th>converted_proportion</th>\n",
       "      <th>standard_error</th>\n",
       "      <th>population_percentage</th>\n",
       "    </tr>\n",
       "  </thead>\n",
       "  <tbody>\n",
       "    <tr>\n",
       "      <th>A1</th>\n",
       "      <td>42</td>\n",
       "      <td>86</td>\n",
       "      <td>44</td>\n",
       "      <td>0.488372</td>\n",
       "      <td>0.053902</td>\n",
       "      <td>0.248555</td>\n",
       "    </tr>\n",
       "    <tr>\n",
       "      <th>A2</th>\n",
       "      <td>37</td>\n",
       "      <td>88</td>\n",
       "      <td>51</td>\n",
       "      <td>0.420455</td>\n",
       "      <td>0.052621</td>\n",
       "      <td>0.254335</td>\n",
       "    </tr>\n",
       "    <tr>\n",
       "      <th>B</th>\n",
       "      <td>48</td>\n",
       "      <td>92</td>\n",
       "      <td>44</td>\n",
       "      <td>0.521739</td>\n",
       "      <td>0.052079</td>\n",
       "      <td>0.265896</td>\n",
       "    </tr>\n",
       "    <tr>\n",
       "      <th>C</th>\n",
       "      <td>37</td>\n",
       "      <td>80</td>\n",
       "      <td>43</td>\n",
       "      <td>0.462500</td>\n",
       "      <td>0.055744</td>\n",
       "      <td>0.231214</td>\n",
       "    </tr>\n",
       "    <tr>\n",
       "      <th>Total</th>\n",
       "      <td>164</td>\n",
       "      <td>346</td>\n",
       "      <td>182</td>\n",
       "      <td>0.473988</td>\n",
       "      <td>0.026844</td>\n",
       "      <td>1.000000</td>\n",
       "    </tr>\n",
       "  </tbody>\n",
       "</table>\n",
       "</div>"
      ],
      "text/plain": [
       "       converted  traffic  not_converted  converted_proportion  \\\n",
       "A1            42       86             44              0.488372   \n",
       "A2            37       88             51              0.420455   \n",
       "B             48       92             44              0.521739   \n",
       "C             37       80             43              0.462500   \n",
       "Total        164      346            182              0.473988   \n",
       "\n",
       "       standard_error  population_percentage  \n",
       "A1           0.053902               0.248555  \n",
       "A2           0.052621               0.254335  \n",
       "B            0.052079               0.265896  \n",
       "C            0.055744               0.231214  \n",
       "Total        0.026844               1.000000  "
      ]
     },
     "execution_count": 165,
     "metadata": {},
     "output_type": "execute_result"
    }
   ],
   "source": [
    "# Повторю загрузку для добавления сегментов\n",
    "file_name = 'Data/sd.csv'\n",
    "date_sort = 'date_visit'\n",
    "data = pd.read_csv(file_name,\n",
    "                  converters= {date_sort: pd.to_datetime} )\n",
    "\n",
    "df = data.copy()\n",
    "df = df.sort_values(date_sort, ascending = True)\n",
    "df = df[df['version'].isin(['A1', 'A2','B', 'C'])]\n",
    "\n",
    "traffic_label = 'clicked'\n",
    "conversion_label = 'liked'\n",
    "user_label = 'user_id'\n",
    "date_label = 'date_visit'\n",
    "segment_label = 'version'\n",
    "segment_list = list(df[segment_label].unique())\n",
    "variations = len(segment_list)\n",
    "\n",
    "aggregation_column = [traffic_label, conversion_label]\n",
    "traffic = []\n",
    "conversions = [] \n",
    "\n",
    "for i in range(variations):\n",
    "    v, c = df[df[segment_label] == segment_list[i] ][aggregation_column[:2]].sum()\n",
    "    \n",
    "    traffic.append(v)\n",
    "    conversions.append(c)\n",
    "    \n",
    "dfp_simple = pd.DataFrame({\n",
    "    \"converted\": conversions,\n",
    "    \"traffic\": traffic}, \n",
    "    index = segment_list)\n",
    "\n",
    "\n",
    "dfp = dfp_simple.copy().sort_index()\n",
    "dfp.loc['Total'] = dfp.sum()\n",
    "dfp['not_converted'] = dfp['traffic'] - dfp['converted']\n",
    "proportion = dfp.converted/dfp.traffic\n",
    "dfp['converted_proportion'] = proportion\n",
    "dfp['standard_error'] = ((proportion * (1-proportion))/dfp.traffic)**(.5)\n",
    "n = dfp.loc['Total']['traffic']\n",
    "dfp['population_percentage'] = dfp['traffic']/n\n",
    "dfp"
   ]
  },
  {
   "cell_type": "code",
   "execution_count": 166,
   "metadata": {},
   "outputs": [
    {
     "data": {
      "text/html": [
       "<div>\n",
       "<style scoped>\n",
       "    .dataframe tbody tr th:only-of-type {\n",
       "        vertical-align: middle;\n",
       "    }\n",
       "\n",
       "    .dataframe tbody tr th {\n",
       "        vertical-align: top;\n",
       "    }\n",
       "\n",
       "    .dataframe thead th {\n",
       "        text-align: right;\n",
       "    }\n",
       "</style>\n",
       "<table border=\"1\" class=\"dataframe\">\n",
       "  <thead>\n",
       "    <tr style=\"text-align: right;\">\n",
       "      <th></th>\n",
       "      <th>A1</th>\n",
       "      <th>A2</th>\n",
       "      <th>B</th>\n",
       "      <th>C</th>\n",
       "      <th>Total</th>\n",
       "    </tr>\n",
       "  </thead>\n",
       "  <tbody>\n",
       "    <tr>\n",
       "      <th>converted</th>\n",
       "      <td>42</td>\n",
       "      <td>37</td>\n",
       "      <td>48</td>\n",
       "      <td>37</td>\n",
       "      <td>164</td>\n",
       "    </tr>\n",
       "    <tr>\n",
       "      <th>not_converted</th>\n",
       "      <td>44</td>\n",
       "      <td>51</td>\n",
       "      <td>44</td>\n",
       "      <td>43</td>\n",
       "      <td>182</td>\n",
       "    </tr>\n",
       "    <tr>\n",
       "      <th>traffic</th>\n",
       "      <td>86</td>\n",
       "      <td>88</td>\n",
       "      <td>92</td>\n",
       "      <td>80</td>\n",
       "      <td>346</td>\n",
       "    </tr>\n",
       "  </tbody>\n",
       "</table>\n",
       "</div>"
      ],
      "text/plain": [
       "               A1  A2   B   C  Total\n",
       "converted      42  37  48  37    164\n",
       "not_converted  44  51  44  43    182\n",
       "traffic        86  88  92  80    346"
      ]
     },
     "execution_count": 166,
     "metadata": {},
     "output_type": "execute_result"
    }
   ],
   "source": [
    "dfpTo = dfp[['converted', 'not_converted', 'traffic']].T\n",
    "dfpTo"
   ]
  },
  {
   "cell_type": "markdown",
   "metadata": {},
   "source": [
    "### % пропорций (вероятности)"
   ]
  },
  {
   "cell_type": "code",
   "execution_count": 167,
   "metadata": {},
   "outputs": [],
   "source": [
    "dfpTe = dfpTo.copy()\n",
    "\n",
    "# заменим вероятностями\n",
    "for i in range(variations):\n",
    "    for j in range(0, 2):\n",
    "        dfpTe.iloc[j,i] = (dfpTo.loc['traffic'][i]*dfpTo['Total'][j])/n"
   ]
  },
  {
   "cell_type": "markdown",
   "metadata": {},
   "source": [
    "### Chi Square / p-value"
   ]
  },
  {
   "cell_type": "code",
   "execution_count": 168,
   "metadata": {},
   "outputs": [
    {
     "data": {
      "text/plain": [
       "1.9666036399234188"
      ]
     },
     "execution_count": 168,
     "metadata": {},
     "output_type": "execute_result"
    }
   ],
   "source": [
    "o = dfpTo.drop(dfpTo.columns[-1], axis = 1)[:-1]\n",
    "e = dfpTe.drop(dfpTe.columns[-1], axis = 1)[:-1]\n",
    "\n",
    "ss = (o-e)**2/e\n",
    "ch2 = ss.values.sum()\n",
    "ch2"
   ]
  },
  {
   "cell_type": "code",
   "execution_count": 169,
   "metadata": {},
   "outputs": [
    {
     "data": {
      "text/plain": [
       "0.5793670974852936"
      ]
     },
     "execution_count": 169,
     "metadata": {},
     "output_type": "execute_result"
    }
   ],
   "source": [
    "# P-value (степень свободы - 1)\n",
    "pvalue_chi = 1 - stats.chi2.cdf(ch2, variations-1)\n",
    "pvalue_chi"
   ]
  },
  {
   "cell_type": "markdown",
   "metadata": {},
   "source": [
    "#### Интерпретация результатов"
   ]
  },
  {
   "cell_type": "code",
   "execution_count": 170,
   "metadata": {},
   "outputs": [
    {
     "name": "stdout",
     "output_type": "stream",
     "text": [
      "p-value 0.57937 меньше, чем alpha, 0.05?\n",
      "\n",
      "Нет, 0-гипотеза не может быть отвергнута\n"
     ]
    }
   ],
   "source": [
    "print('p-value {p} меньше, чем alpha, {alpha}?\\n'.format(p=round(pvalue_chi,5), alpha=alpha))\n",
    "if (pvalue < alpha):\n",
    "    print('p-value меньше, чем alpha, 0-гипотеза отвергается (null-hypothesis = no difference)')\n",
    "else: \n",
    "    print('Нет, 0-гипотеза не может быть отвергнута')"
   ]
  },
  {
   "cell_type": "markdown",
   "metadata": {},
   "source": [
    "---"
   ]
  },
  {
   "cell_type": "markdown",
   "metadata": {},
   "source": [
    "### Main Question: \n",
    "Какая модель (сегмент) лучше?"
   ]
  },
  {
   "cell_type": "markdown",
   "metadata": {},
   "source": [
    "### Marascuilo Procedure (аналог Tukey-Kramer Test)\n",
    "\n",
    "О тесте: [ссылка](https://www.itl.nist.gov/div898/handbook/prc/section4/prc474.htm)\n"
   ]
  },
  {
   "cell_type": "code",
   "execution_count": 171,
   "metadata": {},
   "outputs": [],
   "source": [
    "# списки итерации\n",
    "prp = list(dfp_simple['converted']/dfp_simple['traffic'])\n",
    "vis = list(dfp_simple['traffic'])\n",
    "seg = list(dfp_simple.index.values)\n",
    "\n",
    "# Хи2\n",
    "c2 = stats.chi2.cdf(ch2, variations-1)\n",
    "\n",
    "# списки для заполнения в цикле\n",
    "diff = []\n",
    "critical_value = []\n",
    "segment1 = []\n",
    "segment2 = []\n",
    "proportion1 = []\n",
    "proportion2 = []\n",
    "segment1_size = []\n",
    "segment2_size = []\n",
    "smallest_measurable_effect_size = []"
   ]
  },
  {
   "cell_type": "code",
   "execution_count": 172,
   "metadata": {},
   "outputs": [],
   "source": [
    "# Парное сравнение сегментов (моделей)\n",
    "# Перебор всех со всеми\n",
    "for i in range(0,(variations)):\n",
    "    for j in range((i+1),variations):\n",
    "        segment1.append(seg[i])\n",
    "        segment2.append(seg[j])\n",
    "        \n",
    "        proportion1.append(prp[i])\n",
    "        proportion2.append(prp[j])\n",
    "        \n",
    "        segment1_size.append(vis[i])\n",
    "        segment2_size.append(vis[j])\n",
    "        smaller_sample_size = min(vis[i], vis[j])\n",
    "        max_proportion = abs(min((1-prp[i]),(1-prp[j]))-1)\n",
    "        es = measurable_effect_size(smaller_sample_size, alpha_Zscore, beta_Zscore, max_proportion)\n",
    "        smallest_measurable_effect_size.append(es)\n",
    "\n",
    "        d = prp[i]-prp[j]\n",
    "        diff.append(d)\n",
    "    \n",
    "        cr = math.sqrt(c2)*math.sqrt(prp[i]*(1-prp[i])/vis[i] + prp[j]*(1-prp[j])/vis[j])\n",
    "        critical_value.append(cr)\n"
   ]
  },
  {
   "cell_type": "code",
   "execution_count": 173,
   "metadata": {},
   "outputs": [],
   "source": [
    "# Создаем DataFrame на основе вычислений\n",
    "dfm = []\n",
    "dfm = pd.DataFrame({\n",
    "    \"segment1\" : segment1,\n",
    "    \"segment2\" : segment2,\n",
    "    \"segment1_size\": segment1_size,\n",
    "    \"segment2_size\": segment2_size,\n",
    "    \"proportion1\": proportion1,\n",
    "    \"proportion2\": proportion2,\n",
    "    \"smallest_measurable_effect_size\": smallest_measurable_effect_size,\n",
    "    \"diff\": diff,\n",
    "    \"critical_value\": critical_value\n",
    "})"
   ]
  },
  {
   "cell_type": "markdown",
   "metadata": {},
   "source": [
    "### Определим значимость\n",
    "\n",
    "Необходимые переменные:\n",
    "- alpha \n",
    "- beta \n",
    "- размер теста\n",
    "- эффективный размер сегмента для теста"
   ]
  },
  {
   "cell_type": "code",
   "execution_count": 174,
   "metadata": {},
   "outputs": [
    {
     "data": {
      "text/html": [
       "<div>\n",
       "<style scoped>\n",
       "    .dataframe tbody tr th:only-of-type {\n",
       "        vertical-align: middle;\n",
       "    }\n",
       "\n",
       "    .dataframe tbody tr th {\n",
       "        vertical-align: top;\n",
       "    }\n",
       "\n",
       "    .dataframe thead th {\n",
       "        text-align: right;\n",
       "    }\n",
       "</style>\n",
       "<table border=\"1\" class=\"dataframe\">\n",
       "  <thead>\n",
       "    <tr style=\"text-align: right;\">\n",
       "      <th></th>\n",
       "      <th>segment1</th>\n",
       "      <th>proportion1</th>\n",
       "      <th>segment2</th>\n",
       "      <th>proportion2</th>\n",
       "      <th>diff</th>\n",
       "      <th>smallest_measurable_effect_size</th>\n",
       "      <th>critical_value</th>\n",
       "      <th>significant</th>\n",
       "      <th>signficant_effect_size</th>\n",
       "    </tr>\n",
       "  </thead>\n",
       "  <tbody>\n",
       "    <tr>\n",
       "      <th>2</th>\n",
       "      <td>B</td>\n",
       "      <td>0.521739</td>\n",
       "      <td>A2</td>\n",
       "      <td>0.420455</td>\n",
       "      <td>0.101285</td>\n",
       "      <td>0.187248</td>\n",
       "      <td>0.048017</td>\n",
       "      <td>True</td>\n",
       "      <td>False</td>\n",
       "    </tr>\n",
       "    <tr>\n",
       "      <th>5</th>\n",
       "      <td>A1</td>\n",
       "      <td>0.488372</td>\n",
       "      <td>A2</td>\n",
       "      <td>0.420455</td>\n",
       "      <td>0.067918</td>\n",
       "      <td>0.189541</td>\n",
       "      <td>0.048855</td>\n",
       "      <td>True</td>\n",
       "      <td>False</td>\n",
       "    </tr>\n",
       "    <tr>\n",
       "      <th>0</th>\n",
       "      <td>B</td>\n",
       "      <td>0.521739</td>\n",
       "      <td>C</td>\n",
       "      <td>0.462500</td>\n",
       "      <td>0.059239</td>\n",
       "      <td>0.196387</td>\n",
       "      <td>0.049477</td>\n",
       "      <td>True</td>\n",
       "      <td>False</td>\n",
       "    </tr>\n",
       "    <tr>\n",
       "      <th>4</th>\n",
       "      <td>C</td>\n",
       "      <td>0.462500</td>\n",
       "      <td>A2</td>\n",
       "      <td>0.420455</td>\n",
       "      <td>0.042045</td>\n",
       "      <td>0.196019</td>\n",
       "      <td>0.049717</td>\n",
       "      <td>False</td>\n",
       "      <td>False</td>\n",
       "    </tr>\n",
       "    <tr>\n",
       "      <th>1</th>\n",
       "      <td>B</td>\n",
       "      <td>0.521739</td>\n",
       "      <td>A1</td>\n",
       "      <td>0.488372</td>\n",
       "      <td>0.033367</td>\n",
       "      <td>0.189413</td>\n",
       "      <td>0.048610</td>\n",
       "      <td>False</td>\n",
       "      <td>False</td>\n",
       "    </tr>\n",
       "    <tr>\n",
       "      <th>3</th>\n",
       "      <td>C</td>\n",
       "      <td>0.462500</td>\n",
       "      <td>A1</td>\n",
       "      <td>0.488372</td>\n",
       "      <td>-0.025872</td>\n",
       "      <td>0.196520</td>\n",
       "      <td>0.050291</td>\n",
       "      <td>False</td>\n",
       "      <td>False</td>\n",
       "    </tr>\n",
       "  </tbody>\n",
       "</table>\n",
       "</div>"
      ],
      "text/plain": [
       "  segment1  proportion1 segment2  proportion2      diff  \\\n",
       "2        B     0.521739       A2     0.420455  0.101285   \n",
       "5       A1     0.488372       A2     0.420455  0.067918   \n",
       "0        B     0.521739        C     0.462500  0.059239   \n",
       "4        C     0.462500       A2     0.420455  0.042045   \n",
       "1        B     0.521739       A1     0.488372  0.033367   \n",
       "3        C     0.462500       A1     0.488372 -0.025872   \n",
       "\n",
       "   smallest_measurable_effect_size  critical_value  significant  \\\n",
       "2                         0.187248        0.048017         True   \n",
       "5                         0.189541        0.048855         True   \n",
       "0                         0.196387        0.049477         True   \n",
       "4                         0.196019        0.049717        False   \n",
       "1                         0.189413        0.048610        False   \n",
       "3                         0.196520        0.050291        False   \n",
       "\n",
       "   signficant_effect_size  \n",
       "2                   False  \n",
       "5                   False  \n",
       "0                   False  \n",
       "4                   False  \n",
       "1                   False  \n",
       "3                   False  "
      ]
     },
     "execution_count": 174,
     "metadata": {},
     "output_type": "execute_result"
    }
   ],
   "source": [
    "# сделаем фильтр всех результатов\n",
    "dfm['significant'] = (abs(dfm['diff']) > dfm['critical_value'])\n",
    "# определим финальный фильтр для таблицы\n",
    "dfm['signficant_effect_size'] = ( (abs(dfm['diff']) > dfm['critical_value']) & ( dfm['diff'] >= \n",
    "                                 dfm['smallest_measurable_effect_size']) )\n",
    "    \n",
    "# обозначим наименование колонок\n",
    "column_order = ['segment1', 'proportion1', 'segment2', 'proportion2', 'diff', 'smallest_measurable_effect_size',\n",
    "                'critical_value', 'significant', 'signficant_effect_size']\n",
    "\n",
    "# сортировка по наибольшему стат.эффекту\n",
    "dfm[column_order].sort_values(['diff', 'signficant_effect_size'], ascending = [False, True])"
   ]
  },
  {
   "cell_type": "markdown",
   "metadata": {},
   "source": [
    "### Какая модель имеет статистическую значимость?"
   ]
  },
  {
   "cell_type": "code",
   "execution_count": 175,
   "metadata": {},
   "outputs": [
    {
     "data": {
      "text/html": [
       "<div>\n",
       "<style scoped>\n",
       "    .dataframe tbody tr th:only-of-type {\n",
       "        vertical-align: middle;\n",
       "    }\n",
       "\n",
       "    .dataframe tbody tr th {\n",
       "        vertical-align: top;\n",
       "    }\n",
       "\n",
       "    .dataframe thead th {\n",
       "        text-align: right;\n",
       "    }\n",
       "</style>\n",
       "<table border=\"1\" class=\"dataframe\">\n",
       "  <thead>\n",
       "    <tr style=\"text-align: right;\">\n",
       "      <th></th>\n",
       "      <th>segment1</th>\n",
       "      <th>segment2</th>\n",
       "    </tr>\n",
       "  </thead>\n",
       "  <tbody>\n",
       "  </tbody>\n",
       "</table>\n",
       "</div>"
      ],
      "text/plain": [
       "Empty DataFrame\n",
       "Columns: [segment1, segment2]\n",
       "Index: []"
      ]
     },
     "execution_count": 175,
     "metadata": {},
     "output_type": "execute_result"
    }
   ],
   "source": [
    "dfm[dfm['signficant_effect_size'] == True][['segment1', 'segment2']]"
   ]
  },
  {
   "cell_type": "markdown",
   "metadata": {},
   "source": [
    "---\n",
    "\n",
    "#### Вывод: \n",
    "\n",
    "Все новые модели не имееют значительного улучшения и не могут быть приняты. \n",
    "\n",
    "Модель A2 имеет потенциал. "
   ]
  }
 ],
 "metadata": {
  "kernelspec": {
   "display_name": "Python3",
   "language": "python",
   "name": "python3"
  },
  "language_info": {
   "codemirror_mode": {
    "name": "ipython",
    "version": 3
   },
   "file_extension": ".py",
   "mimetype": "text/x-python",
   "name": "python",
   "nbconvert_exporter": "python",
   "pygments_lexer": "ipython3",
   "version": "3.8.6"
  }
 },
 "nbformat": 4,
 "nbformat_minor": 2
}
