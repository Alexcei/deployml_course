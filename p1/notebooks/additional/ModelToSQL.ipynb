{
 "cells": [
  {
   "cell_type": "code",
   "execution_count": 1,
   "metadata": {},
   "outputs": [
    {
     "name": "stdout",
     "output_type": "stream",
     "text": [
      "Model is fitted\n"
     ]
    }
   ],
   "source": [
    "from sklearn.datasets import make_blobs\n",
    "from sklearn.model_selection import train_test_split\n",
    "from sklearn.linear_model import LogisticRegression\n",
    "\n",
    "\n",
    "# рандомный дата сет и его разделение на обуч/тест\n",
    "X, y = make_blobs(n_samples=100, centers=5, n_features=5, random_state=1)\n",
    "X_train, X_test, y_train, y_test = train_test_split(X, y, test_size=0.33, random_state=1)\n",
    "\n",
    "model = LogisticRegression(solver='lbfgs')\n",
    "model.fit(X_train, y_train)\n",
    "print('Model is fitted')"
   ]
  },
  {
   "cell_type": "code",
   "execution_count": 2,
   "metadata": {},
   "outputs": [
    {
     "data": {
      "text/plain": [
       "array([[  0.02893715,   5.03230134, -11.60907632,  -3.89325081,\n",
       "         -6.60246139],\n",
       "       [ -1.03699711,   4.83405194,  -9.9237029 ,  -4.40651715,\n",
       "         -6.46072854],\n",
       "       [  5.28698894,   8.65679949,  -4.38161   ,   4.07961662,\n",
       "          7.98826864],\n",
       "       [  3.104177  ,   0.17186983,   0.81160271,  -7.3938379 ,\n",
       "         -6.98062579],\n",
       "       [ -1.87147283,   2.8597658 ,  -8.95251188,  -2.94297307,\n",
       "         -6.99404554]])"
      ]
     },
     "execution_count": 2,
     "metadata": {},
     "output_type": "execute_result"
    }
   ],
   "source": [
    "X_train[:5]"
   ]
  },
  {
   "cell_type": "code",
   "execution_count": 3,
   "metadata": {},
   "outputs": [
    {
     "data": {
      "text/html": [
       "<div>\n",
       "<style scoped>\n",
       "    .dataframe tbody tr th:only-of-type {\n",
       "        vertical-align: middle;\n",
       "    }\n",
       "\n",
       "    .dataframe tbody tr th {\n",
       "        vertical-align: top;\n",
       "    }\n",
       "\n",
       "    .dataframe thead th {\n",
       "        text-align: right;\n",
       "    }\n",
       "</style>\n",
       "<table border=\"1\" class=\"dataframe\">\n",
       "  <thead>\n",
       "    <tr style=\"text-align: right;\">\n",
       "      <th></th>\n",
       "      <th>x1</th>\n",
       "      <th>x2</th>\n",
       "      <th>x3</th>\n",
       "      <th>x4</th>\n",
       "      <th>x5</th>\n",
       "    </tr>\n",
       "  </thead>\n",
       "  <tbody>\n",
       "    <tr>\n",
       "      <th>0</th>\n",
       "      <td>0.028937</td>\n",
       "      <td>5.032301</td>\n",
       "      <td>-11.609076</td>\n",
       "      <td>-3.893251</td>\n",
       "      <td>-6.602461</td>\n",
       "    </tr>\n",
       "    <tr>\n",
       "      <th>1</th>\n",
       "      <td>-1.036997</td>\n",
       "      <td>4.834052</td>\n",
       "      <td>-9.923703</td>\n",
       "      <td>-4.406517</td>\n",
       "      <td>-6.460729</td>\n",
       "    </tr>\n",
       "    <tr>\n",
       "      <th>2</th>\n",
       "      <td>5.286989</td>\n",
       "      <td>8.656799</td>\n",
       "      <td>-4.381610</td>\n",
       "      <td>4.079617</td>\n",
       "      <td>7.988269</td>\n",
       "    </tr>\n",
       "    <tr>\n",
       "      <th>3</th>\n",
       "      <td>3.104177</td>\n",
       "      <td>0.171870</td>\n",
       "      <td>0.811603</td>\n",
       "      <td>-7.393838</td>\n",
       "      <td>-6.980626</td>\n",
       "    </tr>\n",
       "    <tr>\n",
       "      <th>4</th>\n",
       "      <td>-1.871473</td>\n",
       "      <td>2.859766</td>\n",
       "      <td>-8.952512</td>\n",
       "      <td>-2.942973</td>\n",
       "      <td>-6.994046</td>\n",
       "    </tr>\n",
       "  </tbody>\n",
       "</table>\n",
       "</div>"
      ],
      "text/plain": [
       "         x1        x2         x3        x4        x5\n",
       "0  0.028937  5.032301 -11.609076 -3.893251 -6.602461\n",
       "1 -1.036997  4.834052  -9.923703 -4.406517 -6.460729\n",
       "2  5.286989  8.656799  -4.381610  4.079617  7.988269\n",
       "3  3.104177  0.171870   0.811603 -7.393838 -6.980626\n",
       "4 -1.871473  2.859766  -8.952512 -2.942973 -6.994046"
      ]
     },
     "execution_count": 3,
     "metadata": {},
     "output_type": "execute_result"
    }
   ],
   "source": [
    "import pandas as pd\n",
    "\n",
    "df = pd.DataFrame(data=X_train, columns=['x1', 'x2', 'x3', 'x4', 'x5'])\n",
    "df.head(5)"
   ]
  },
  {
   "cell_type": "code",
   "execution_count": 4,
   "metadata": {},
   "outputs": [
    {
     "data": {
      "text/plain": [
       "array([ 0.02893715, -1.03699711,  5.28698894,  3.104177  , -1.87147283,\n",
       "       -9.85996586, -1.00327583, -2.40751365, -1.32054642,  3.23725023,\n",
       "        4.13010907, -8.14826765,  5.69588913, -7.93554555,  3.43036148,\n",
       "       -2.25744388,  4.21565006, -1.12574899, -9.55778871, -6.64637746,\n",
       "        3.61215626,  2.68355961, -1.45074656, -0.2925272 , -0.05205286,\n",
       "       -1.20460766,  4.03501569, -8.21370145,  6.45505482,  5.38802673,\n",
       "       -7.24577694, -2.20251282, -7.37608159, -5.76802229,  4.52051058,\n",
       "       -1.24022528,  7.06802541, -0.94197008,  2.89260577, -1.38384186,\n",
       "       -5.94131323, -7.92039581,  5.50409524,  4.36261415, -2.41200275,\n",
       "        3.34257243,  4.18318307, -8.04001006, -2.78915507, -0.78614167,\n",
       "        4.93677769, -7.22923511, -8.26407257, -7.81492334,  6.73677914,\n",
       "       -2.06953728,  3.09556326,  3.067091  , -0.55049232, -7.74053793,\n",
       "       -0.40950986, -0.97472342,  5.81459149, -2.96484623,  4.77302336,\n",
       "        7.33348264, -0.74236389])"
      ]
     },
     "execution_count": 4,
     "metadata": {},
     "output_type": "execute_result"
    }
   ],
   "source": [
    "df['x1'].unique()"
   ]
  },
  {
   "cell_type": "markdown",
   "metadata": {},
   "source": [
    "# что \"под капотом\""
   ]
  },
  {
   "cell_type": "code",
   "execution_count": 5,
   "metadata": {},
   "outputs": [
    {
     "data": {
      "text/plain": [
       "array([[-0.07859722,  0.22289687, -0.5211671 , -0.33432242, -0.12508447],\n",
       "       [-0.34726567, -0.33893886,  0.04533889,  0.01851502,  0.24391597],\n",
       "       [-0.05655281,  0.04065792,  0.06595581,  0.47792999, -0.30079391],\n",
       "       [ 0.30455425, -0.12659892,  0.36888877, -0.28606693, -0.15174447],\n",
       "       [ 0.17786144,  0.20198299,  0.04098362,  0.12394434,  0.33370689]])"
      ]
     },
     "execution_count": 5,
     "metadata": {},
     "output_type": "execute_result"
    }
   ],
   "source": [
    "model.coef_"
   ]
  },
  {
   "cell_type": "code",
   "execution_count": 6,
   "metadata": {},
   "outputs": [
    {
     "data": {
      "text/plain": [
       "[(array([-0.07859722,  0.22289687, -0.5211671 , -0.33432242, -0.12508447]),\n",
       "  'x1'),\n",
       " (array([-0.34726567, -0.33893886,  0.04533889,  0.01851502,  0.24391597]),\n",
       "  'x2'),\n",
       " (array([-0.05655281,  0.04065792,  0.06595581,  0.47792999, -0.30079391]),\n",
       "  'x3'),\n",
       " (array([ 0.30455425, -0.12659892,  0.36888877, -0.28606693, -0.15174447]),\n",
       "  'x4'),\n",
       " (array([0.17786144, 0.20198299, 0.04098362, 0.12394434, 0.33370689]), 'x5')]"
      ]
     },
     "execution_count": 6,
     "metadata": {},
     "output_type": "execute_result"
    }
   ],
   "source": [
    "list(zip(model.coef_, ['x1', 'x2', 'x3', 'x4', 'x5']))"
   ]
  },
  {
   "cell_type": "code",
   "execution_count": 7,
   "metadata": {},
   "outputs": [
    {
     "data": {
      "text/plain": [
       "array([-2.72207627,  1.44814412, -0.62821412,  1.44892504,  0.45322123])"
      ]
     },
     "execution_count": 7,
     "metadata": {},
     "output_type": "execute_result"
    }
   ],
   "source": [
    "model.intercept_"
   ]
  },
  {
   "cell_type": "code",
   "execution_count": 8,
   "metadata": {},
   "outputs": [
    {
     "name": "stderr",
     "output_type": "stream",
     "text": [
      "C:\\Program Files\\Python38\\lib\\site-packages\\sklearn\\utils\\deprecation.py:143: FutureWarning: The sklearn.linear_model.base module is  deprecated in version 0.22 and will be removed in version 0.24. The corresponding classes / functions should instead be imported from sklearn.linear_model. Anything that cannot be imported from sklearn.linear_model is now part of the private API.\n",
      "  warnings.warn(message, FutureWarning)\n",
      "C:\\Program Files\\Python38\\lib\\site-packages\\sklearn\\utils\\deprecation.py:143: FutureWarning: The sklearn.tree.tree module is  deprecated in version 0.22 and will be removed in version 0.24. The corresponding classes / functions should instead be imported from sklearn.tree. Anything that cannot be imported from sklearn.tree is now part of the private API.\n",
      "  warnings.warn(message, FutureWarning)\n",
      "C:\\Program Files\\Python38\\lib\\site-packages\\sklearn\\utils\\deprecation.py:143: FutureWarning: The sklearn.decomposition.pca module is  deprecated in version 0.22 and will be removed in version 0.24. The corresponding classes / functions should instead be imported from sklearn.decomposition. Anything that cannot be imported from sklearn.decomposition is now part of the private API.\n",
      "  warnings.warn(message, FutureWarning)\n"
     ]
    },
    {
     "name": "stdout",
     "output_type": "stream",
     "text": [
      "WITH _tmp1 AS \n",
      "(SELECT data.id AS __id__, -0.07859721568507655 * x1 + 0.22289687068059238 * x2 + -0.5211670965050653 * x3 + -0.33432242359685665 * x4 + -0.12508447250035992 * x5 + -2.7220762685789914 AS f1, -0.3472656746645461 * x1 + -0.3389388614703779 * x2 + 0.04533889093339693 * x3 + 0.018515018915193963 * x4 + 0.24391596523719872 * x5 + 1.4481441208638028 AS f2, -0.0565528060318782 * x1 + 0.04065792409477134 * x2 + 0.06595581245037392 * x3 + 0.47792999226088473 * x4 + -0.30079391119014287 * x5 + -0.6282141173677712 AS f3, 0.3045542523776756 * x1 + -0.12659891935192882 * x2 + 0.36888877291846 * x3 + -0.2860669264035789 * x4 + -0.1517444702028635 * x5 + 1.4489250400041591 AS f4, 0.17786144400379647 * x1 + 0.20198298604690426 * x2 + 0.04098362020280504 * x3 + 0.12394433882426911 * x4 + 0.3337068886561315 * x5 + 0.45322122507869983 AS f5 \n",
      "FROM data), \n",
      "_tmp2 AS \n",
      "(SELECT _tmp1.__id__ AS __id__, greatest(greatest(greatest(greatest(_tmp1.f1, _tmp1.f2), _tmp1.f3), _tmp1.f4), _tmp1.f5) AS _max \n",
      "FROM _tmp1)\n",
      " SELECT CASE WHEN (_tmp1.f1 = _tmp2._max) THEN 0 WHEN (_tmp1.f2 = _tmp2._max) THEN 1 WHEN (_tmp1.f3 = _tmp2._max) THEN 2 WHEN (_tmp1.f4 = _tmp2._max) THEN 3 ELSE 4 END AS y \n",
      "FROM _tmp1 JOIN _tmp2 ON _tmp1.__id__ = _tmp2.__id__\n"
     ]
    }
   ],
   "source": [
    "from skompiler import skompile\n",
    "expr = skompile(model.predict)\n",
    "sql = expr.to('sqlalchemy/postgresql')\n",
    "print(sql)"
   ]
  },
  {
   "cell_type": "markdown",
   "metadata": {},
   "source": [
    "# Делаем SQL скрипт из Дерева"
   ]
  },
  {
   "cell_type": "code",
   "execution_count": null,
   "metadata": {},
   "outputs": [],
   "source": [
    "from sklearn.tree import _tree\n",
    "\n",
    "def tree_to_code(tree, feature_names):\n",
    "    tree_ = tree.tree_\n",
    "    feature_name = [\n",
    "        feature_names[i] if i != _tree.TREE_UNDEFINED else \"undefined!\"\n",
    "        for i in tree_.feature\n",
    "    ]\n",
    "    print (\"SELECT\")\n",
    "\n",
    "    def recurse(node, depth):\n",
    "        indent = \"  \" * depth\n",
    "        if tree_.feature[node] != _tree.TREE_UNDEFINED:\n",
    "            name = feature_name[node]\n",
    "            threshold = tree_.threshold[node]\n",
    "            print(node)\n",
    "            print (\"CASE WHEN {} <= {}\".format(name, threshold))\n",
    "            recurse(tree_.children_left[node], depth + 1)\n",
    "            print (\"CASE WHEN {} > {}\".format(name, threshold))\n",
    "            recurse(tree_.children_right[node], depth + 1)\n",
    "        else:\n",
    "            print (\"{}THEN {}\".format(indent, tree_.value[node]))\n",
    "\n",
    "    recurse(0, 1)\n",
    "    \n",
    "    print('FROM')"
   ]
  },
  {
   "cell_type": "code",
   "execution_count": null,
   "metadata": {},
   "outputs": [],
   "source": [
    "from sklearn import tree\n",
    "\n",
    "dt = tree.DecisionTreeClassifier(criterion='entropy')\n",
    "dt.fit(X_train, y_train)\n",
    "tree_to_code(dt, ['x1', 'x2', 'x3', 'x4', 'x5'])"
   ]
  },
  {
   "cell_type": "code",
   "execution_count": null,
   "metadata": {},
   "outputs": [],
   "source": [
    "from skompiler import skompile\n",
    "expr = skompile(model.predict)\n",
    "sql = expr.to('sqlalchemy/postgresql')\n",
    "print(sql)"
   ]
  },
  {
   "cell_type": "code",
   "execution_count": null,
   "metadata": {},
   "outputs": [],
   "source": []
  }
 ],
 "metadata": {
  "kernelspec": {
   "display_name": "Python3 DS",
   "language": "python",
   "name": "python3_ds"
  },
  "language_info": {
   "codemirror_mode": {
    "name": "ipython",
    "version": 3
   },
   "file_extension": ".py",
   "mimetype": "text/x-python",
   "name": "python",
   "nbconvert_exporter": "python",
   "pygments_lexer": "ipython3",
   "version": "3.8.6"
  }
 },
 "nbformat": 4,
 "nbformat_minor": 4
}
