{
 "cells": [
  {
   "cell_type": "code",
   "execution_count": 3,
   "metadata": {},
   "outputs": [
    {
     "name": "stdout",
     "output_type": "stream",
     "text": [
      "JOBLIB saving time - 0.02997899055480957\n",
      "PICKLE saving time - 0.11505579948425293\n",
      "JOBLIB loading time - 0.024982690811157227\n",
      "PICKLE loading time - 0.018988847732543945\n"
     ]
    }
   ],
   "source": [
    "import joblib\n",
    "import time\n",
    "import numpy\n",
    "import pickle\n",
    "\n",
    "bigarray = numpy.zeros([190,91,190])\n",
    "bigarray = bigarray.flatten()\n",
    "\n",
    "\n",
    "### Saving\n",
    "start = time.time()\n",
    "joblib.dump(bigarray,\"bigarray1.pkl\")\n",
    "end = time.time() - start\n",
    "print(f\"JOBLIB saving time - {end}\")\n",
    "# 0.31264686584472656\n",
    "\n",
    "start = time.time()\n",
    "pickle.dump(bigarray,open(\"bigarray2.pkl\",\"wb\"))\n",
    "end = time.time()-start\n",
    "print(f\"PICKLE saving time - {end}\")\n",
    "# 4.827500104904175\n",
    "\n",
    "### Loading\n",
    "start = time.time()\n",
    "joblib.load(\"bigarray1.pkl\")\n",
    "end = time.time() - start\n",
    "print(f\"JOBLIB loading time - {end}\")\n",
    "# 0.47748589515686035\n",
    "\n",
    "\n",
    "start = time.time()\n",
    "pickle.load(open(\"bigarray2.pkl\",\"rb\"))\n",
    "end = time.time()-start\n",
    "print(f\"PICKLE loading time - {end}\")\n",
    "# 0.7575929164886475"
   ]
  },
  {
   "cell_type": "markdown",
   "metadata": {},
   "source": [
    "### joblib для больших файлов \n",
    "### pickle получил новый формат pickle5 и стал лучше на python3.8 и более\n",
    "### pickle для сохранения объектов \"как есть\", не меняя типы данных (df.to_csv все меняет в строки)\n",
    "### joblib умеет конвертировать в форматы \"z\", \"gzip\", \"bz2\""
   ]
  },
  {
   "cell_type": "code",
   "execution_count": null,
   "metadata": {},
   "outputs": [],
   "source": []
  }
 ],
 "metadata": {
  "kernelspec": {
   "display_name": "Python3 DS",
   "language": "python",
   "name": "python3_ds"
  },
  "language_info": {
   "codemirror_mode": {
    "name": "ipython",
    "version": 3
   },
   "file_extension": ".py",
   "mimetype": "text/x-python",
   "name": "python",
   "nbconvert_exporter": "python",
   "pygments_lexer": "ipython3",
   "version": "3.8.6"
  }
 },
 "nbformat": 4,
 "nbformat_minor": 4
}
